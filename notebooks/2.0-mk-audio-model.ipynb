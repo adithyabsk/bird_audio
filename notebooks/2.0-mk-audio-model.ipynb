{
 "cells": [
  {
   "cell_type": "code",
   "execution_count": 1,
   "metadata": {
    "jupyter": {
     "outputs_hidden": true
    }
   },
   "outputs": [],
   "source": [
    "import IPython.display as ipd\n",
    "import librosa\n",
    "import librosa.display\n",
    "import librosa.feature\n",
    "# from pydub import AudioSegment\n",
    "\n",
    "import matplotlib.pyplot as plt\n",
    "from PIL import Image\n",
    "\n",
    "from scipy import signal\n",
    "\n",
    "from tsfresh import extract_features, extract_relevant_features, select_features\n",
    "from tsfresh.utilities.dataframe_functions import impute\n",
    "from tsfresh.feature_extraction.settings import from_columns\n",
    "from tsfresh.feature_extraction import ComprehensiveFCParameters, EfficientFCParameters, MinimalFCParameters\n",
    "\n",
    "import json\n",
    "from pathlib import Path\n",
    "\n",
    "import numpy as np\n",
    "import pandas as pd\n",
    "\n",
    "from sklearn.impute import SimpleImputer\n",
    "from sklearn.linear_model import LogisticRegression\n",
    "from sklearn.preprocessing import MinMaxScaler, OneHotEncoder\n",
    "# from sklearn_pandas import DataFrameMapper\n",
    "\n",
    "from tqdm import tqdm\n",
    "\n",
    "from concurrent.futures import ProcessPoolExecutor\n",
    "\n",
    "import pickle\n",
    "\n",
    "ROOT_PATH = Path(\"..\")"
   ]
  },
  {
   "cell_type": "markdown",
   "metadata": {},
   "source": [
    "# Get ids, labels, and train-test splits"
   ]
  },
  {
   "cell_type": "code",
   "execution_count": 2,
   "metadata": {
    "pycharm": {
     "name": "#%%\n"
    }
   },
   "outputs": [],
   "source": [
    "df = pd.read_csv(ROOT_PATH / \"data/raw/metadata.csv\")\n",
    "# svc - song vs call ids\n",
    "# filter ids -> <20s, quality A & B\n",
    "# svc ids -> only rows that have call or song (not both)\n",
    "filter_ids = pd.read_json(ROOT_PATH / \"data/raw/filter_ids.json\").squeeze()\n",
    "svc_ids = pd.read_json(ROOT_PATH / \"data/raw/song_vs_call.json\").squeeze()\n",
    "svc_df = df.loc[df.id.isin(svc_ids)].copy()\n",
    "# set index to id\n",
    "svc_df.set_index('id', inplace=True)\n",
    "\n",
    "with open(ROOT_PATH / \"data/processed/svc_split.json\") as svc_split_file:\n",
    "    svc_split = json.load(svc_split_file)\n",
    "    train_ids = svc_split[\"train_ids\"]\n",
    "    test_ids = svc_split[\"test_ids\"]"
   ]
  },
  {
   "cell_type": "code",
   "execution_count": 3,
   "metadata": {},
   "outputs": [],
   "source": [
    "# Add response variable\n",
    "type_col = svc_df.type.str.lower().str.replace(\" \", \"\").str.split(\",\")\n",
    "filtered_type_col = type_col.apply(lambda l: set(l) - {\"call\", \"song\"})\n",
    "svc_df[\"pred\"] = type_col.apply(lambda l: \"call\" in l).astype(int)"
   ]
  },
  {
   "cell_type": "code",
   "execution_count": 4,
   "metadata": {},
   "outputs": [],
   "source": [
    "## Build y train-test\n",
    "# indexing all (svc_df and y_df) by id\n",
    "y_df = svc_df[\"pred\"]\n",
    "y_train, y_test = (\n",
    "    y_df[y_df.index.isin(train_ids)].squeeze(),\n",
    "    y_df[y_df.index.isin(test_ids)].squeeze(),\n",
    ")"
   ]
  },
  {
   "cell_type": "markdown",
   "metadata": {},
   "source": [
    "# Featurize Audio"
   ]
  },
  {
   "cell_type": "markdown",
   "metadata": {},
   "source": [
    "## Convert Audio to Timeseries, Run High-pass Filter"
   ]
  },
  {
   "cell_type": "code",
   "execution_count": 5,
   "metadata": {},
   "outputs": [],
   "source": [
    "# apply butter filter\n",
    "def highpass_filter(audio, sr):\n",
    "    # butter_coeff_b, butter_coeff_a = signal.butter(3, 1000, btype='highpass', fs=sr) # numerator and denominator\n",
    "    # butter_audio = signal.lfilter(butter_coeff_b, butter_coeff_a, audio)\n",
    "    # return butter_audio\n",
    "    return signal.lfilter(*signal.butter(3, 1000, btype='highpass', fs=sr), audio)"
   ]
  },
  {
   "cell_type": "code",
   "execution_count": 6,
   "metadata": {},
   "outputs": [],
   "source": [
    "# unpack an mp3 or wav into df of timeseries values\n",
    "def unpack_audio(id):\n",
    "    try:\n",
    "        audio_path = ROOT_PATH / (\"data/raw/recordings/\" + str(id) + \".mp3\")\n",
    "        # load mp3 as audio timeseries arr\n",
    "        timeseries,sr = librosa.load(audio_path)\n",
    "    except FileNotFoundError:\n",
    "        audio_path = ROOT_PATH / (\"data/raw/recordings/\" + str(id) + \".wav\")\n",
    "        timeseries,sr = librosa.load(audio_path)\n",
    "\n",
    "    # high-pass filter on audio timeseries\n",
    "    timeseries_filt = highpass_filter(timeseries,sr)\n",
    "\n",
    "    df = pd.DataFrame(timeseries_filt, columns=['val'])\n",
    "    df.reset_index(inplace=True)\n",
    "    df['id'] = id # fill col with id\n",
    "    df = df.reindex(columns=['id','index','val'])\n",
    "    df.columns = ['id','time','val']\n",
    "    return df"
   ]
  },
  {
   "cell_type": "code",
   "execution_count": 7,
   "metadata": {},
   "outputs": [],
   "source": [
    "# %%timeit\n",
    "# unpack_audio(svc_ids[0])"
   ]
  },
  {
   "cell_type": "markdown",
   "metadata": {},
   "source": [
    "## Extract Features"
   ]
  },
  {
   "cell_type": "code",
   "execution_count": 23,
   "metadata": {},
   "outputs": [],
   "source": [
    "# select features to calculate\n",
    "# features can be found here: https://tsfresh.readthedocs.io/en/latest/api/tsfresh.feature_extraction.html#tsfresh.feature_extraction.feature_calculators.fft_aggregated\n",
    "manual_fc_params = {\n",
    "                        \"abs_energy\": None,\n",
    "                        \"fft_aggregated\": [{\"aggtype\":\"centroid\"}, {\"aggtype\":\"kurtosis\"}],\n",
    "                        \"root_mean_square\": None,\n",
    "                        \"spkt_welch_density\": [{\"coeff\":2},{\"coeff\":5},{\"coeff\":8}]\n",
    "}\n",
    "\n",
    "selected_fc_params = {\n",
    "                        'standard_deviation': None,\n",
    "                        'variance': None,\n",
    "                        'root_mean_square': None\n",
    "}\n",
    "\n",
    "def featurize_audio(id, fc_params):\n",
    "        return extract_features(unpack_audio(id), column_id='id', column_sort='time',\n",
    "                        default_fc_parameters=fc_params,\n",
    "                        disable_progressbar=True,\n",
    "                        # we impute = remove all NaN features automatically\n",
    "                        impute_function=impute,\n",
    "                        # turn off parallelization\n",
    "                        n_jobs=0)"
   ]
  },
  {
   "cell_type": "code",
   "execution_count": 9,
   "metadata": {},
   "outputs": [],
   "source": [
    "# featurize dataset\n",
    "# returns df of all combined\n",
    "def featurize_set(ids, fc_params=EfficientFCParameters()):\n",
    "    X_df = pd.DataFrame()\n",
    "    for id in tqdm(ids):\n",
    "        X_df = pd.concat([X_df,featurize_audio(id, fc_params)])\n",
    "    return X_df"
   ]
  },
  {
   "cell_type": "code",
   "execution_count": 10,
   "metadata": {},
   "outputs": [],
   "source": [
    "# calculate features\n",
    "# takes 1 hr\n",
    "# X_df = featurize_set(svc_ids, manual_fc_params)"
   ]
  },
  {
   "cell_type": "code",
   "execution_count": 11,
   "metadata": {},
   "outputs": [],
   "source": [
    "# save calculated features\n",
    "# X_df.to_json(ROOT_PATH / f\"data/processed/audio_features_manual.json\", indent=2, orient='columns')"
   ]
  },
  {
   "cell_type": "code",
   "execution_count": 12,
   "metadata": {},
   "outputs": [],
   "source": [
    "# load features\n",
    "X_df = pd.read_json(path_or_buf=ROOT_PATH / \"data/processed/audio_features.json\",orient='columns')"
   ]
  },
  {
   "cell_type": "code",
   "execution_count": 209,
   "metadata": {},
   "outputs": [
    {
     "data": {
      "text/html": [
       "<div>\n",
       "<style scoped>\n",
       "    .dataframe tbody tr th:only-of-type {\n",
       "        vertical-align: middle;\n",
       "    }\n",
       "\n",
       "    .dataframe tbody tr th {\n",
       "        vertical-align: top;\n",
       "    }\n",
       "\n",
       "    .dataframe thead th {\n",
       "        text-align: right;\n",
       "    }\n",
       "</style>\n",
       "<table border=\"1\" class=\"dataframe\">\n",
       "  <thead>\n",
       "    <tr style=\"text-align: right;\">\n",
       "      <th></th>\n",
       "      <th>val__abs_energy</th>\n",
       "      <th>val__fft_aggregated__aggtype_\"centroid\"</th>\n",
       "      <th>val__fft_aggregated__aggtype_\"kurtosis\"</th>\n",
       "      <th>val__root_mean_square</th>\n",
       "      <th>val__spkt_welch_density__coeff_2</th>\n",
       "      <th>val__spkt_welch_density__coeff_5</th>\n",
       "      <th>val__spkt_welch_density__coeff_8</th>\n",
       "    </tr>\n",
       "  </thead>\n",
       "  <tbody>\n",
       "    <tr>\n",
       "      <th>454911</th>\n",
       "      <td>358.220397</td>\n",
       "      <td>40462.479990</td>\n",
       "      <td>10.596966</td>\n",
       "      <td>0.030647</td>\n",
       "      <td>1.741000e-07</td>\n",
       "      <td>2.131267e-04</td>\n",
       "      <td>0.005108</td>\n",
       "    </tr>\n",
       "    <tr>\n",
       "      <th>418340</th>\n",
       "      <td>66.304011</td>\n",
       "      <td>38155.208216</td>\n",
       "      <td>13.535033</td>\n",
       "      <td>0.014646</td>\n",
       "      <td>8.200000e-08</td>\n",
       "      <td>1.224163e-04</td>\n",
       "      <td>0.000272</td>\n",
       "    </tr>\n",
       "    <tr>\n",
       "      <th>291051</th>\n",
       "      <td>4409.099474</td>\n",
       "      <td>29383.692777</td>\n",
       "      <td>26.927665</td>\n",
       "      <td>0.112822</td>\n",
       "      <td>1.026000e-07</td>\n",
       "      <td>2.451621e-04</td>\n",
       "      <td>0.008701</td>\n",
       "    </tr>\n",
       "    <tr>\n",
       "      <th>283618</th>\n",
       "      <td>194.438862</td>\n",
       "      <td>30328.177329</td>\n",
       "      <td>13.341530</td>\n",
       "      <td>0.029160</td>\n",
       "      <td>5.400000e-09</td>\n",
       "      <td>2.406300e-06</td>\n",
       "      <td>0.000582</td>\n",
       "    </tr>\n",
       "    <tr>\n",
       "      <th>209702</th>\n",
       "      <td>192.842057</td>\n",
       "      <td>25128.125979</td>\n",
       "      <td>16.318864</td>\n",
       "      <td>0.028133</td>\n",
       "      <td>8.230000e-08</td>\n",
       "      <td>1.763200e-06</td>\n",
       "      <td>0.000084</td>\n",
       "    </tr>\n",
       "    <tr>\n",
       "      <th>...</th>\n",
       "      <td>...</td>\n",
       "      <td>...</td>\n",
       "      <td>...</td>\n",
       "      <td>...</td>\n",
       "      <td>...</td>\n",
       "      <td>...</td>\n",
       "      <td>...</td>\n",
       "    </tr>\n",
       "    <tr>\n",
       "      <th>410862</th>\n",
       "      <td>2.238131</td>\n",
       "      <td>65950.256065</td>\n",
       "      <td>39.598474</td>\n",
       "      <td>0.002436</td>\n",
       "      <td>8.280000e-08</td>\n",
       "      <td>3.107400e-06</td>\n",
       "      <td>0.000009</td>\n",
       "    </tr>\n",
       "    <tr>\n",
       "      <th>313197</th>\n",
       "      <td>136.893167</td>\n",
       "      <td>48420.605922</td>\n",
       "      <td>56.884135</td>\n",
       "      <td>0.022562</td>\n",
       "      <td>2.160700e-06</td>\n",
       "      <td>9.892110e-05</td>\n",
       "      <td>0.000186</td>\n",
       "    </tr>\n",
       "    <tr>\n",
       "      <th>278258</th>\n",
       "      <td>69.776815</td>\n",
       "      <td>37022.922654</td>\n",
       "      <td>27.933719</td>\n",
       "      <td>0.013543</td>\n",
       "      <td>2.057000e-07</td>\n",
       "      <td>3.409230e-05</td>\n",
       "      <td>0.000128</td>\n",
       "    </tr>\n",
       "    <tr>\n",
       "      <th>277076</th>\n",
       "      <td>202.622076</td>\n",
       "      <td>76774.398330</td>\n",
       "      <td>606.192887</td>\n",
       "      <td>0.028014</td>\n",
       "      <td>2.550000e-08</td>\n",
       "      <td>7.762000e-07</td>\n",
       "      <td>0.000005</td>\n",
       "    </tr>\n",
       "    <tr>\n",
       "      <th>276699</th>\n",
       "      <td>99.676304</td>\n",
       "      <td>70786.531859</td>\n",
       "      <td>219.043213</td>\n",
       "      <td>0.020412</td>\n",
       "      <td>1.063200e-06</td>\n",
       "      <td>4.104600e-06</td>\n",
       "      <td>0.000034</td>\n",
       "    </tr>\n",
       "  </tbody>\n",
       "</table>\n",
       "<p>5800 rows × 7 columns</p>\n",
       "</div>"
      ],
      "text/plain": [
       "        val__abs_energy  val__fft_aggregated__aggtype_\"centroid\"  \\\n",
       "454911       358.220397                             40462.479990   \n",
       "418340        66.304011                             38155.208216   \n",
       "291051      4409.099474                             29383.692777   \n",
       "283618       194.438862                             30328.177329   \n",
       "209702       192.842057                             25128.125979   \n",
       "...                 ...                                      ...   \n",
       "410862         2.238131                             65950.256065   \n",
       "313197       136.893167                             48420.605922   \n",
       "278258        69.776815                             37022.922654   \n",
       "277076       202.622076                             76774.398330   \n",
       "276699        99.676304                             70786.531859   \n",
       "\n",
       "        val__fft_aggregated__aggtype_\"kurtosis\"  val__root_mean_square  \\\n",
       "454911                                10.596966               0.030647   \n",
       "418340                                13.535033               0.014646   \n",
       "291051                                26.927665               0.112822   \n",
       "283618                                13.341530               0.029160   \n",
       "209702                                16.318864               0.028133   \n",
       "...                                         ...                    ...   \n",
       "410862                                39.598474               0.002436   \n",
       "313197                                56.884135               0.022562   \n",
       "278258                                27.933719               0.013543   \n",
       "277076                               606.192887               0.028014   \n",
       "276699                               219.043213               0.020412   \n",
       "\n",
       "        val__spkt_welch_density__coeff_2  val__spkt_welch_density__coeff_5  \\\n",
       "454911                      1.741000e-07                      2.131267e-04   \n",
       "418340                      8.200000e-08                      1.224163e-04   \n",
       "291051                      1.026000e-07                      2.451621e-04   \n",
       "283618                      5.400000e-09                      2.406300e-06   \n",
       "209702                      8.230000e-08                      1.763200e-06   \n",
       "...                                  ...                               ...   \n",
       "410862                      8.280000e-08                      3.107400e-06   \n",
       "313197                      2.160700e-06                      9.892110e-05   \n",
       "278258                      2.057000e-07                      3.409230e-05   \n",
       "277076                      2.550000e-08                      7.762000e-07   \n",
       "276699                      1.063200e-06                      4.104600e-06   \n",
       "\n",
       "        val__spkt_welch_density__coeff_8  \n",
       "454911                          0.005108  \n",
       "418340                          0.000272  \n",
       "291051                          0.008701  \n",
       "283618                          0.000582  \n",
       "209702                          0.000084  \n",
       "...                                  ...  \n",
       "410862                          0.000009  \n",
       "313197                          0.000186  \n",
       "278258                          0.000128  \n",
       "277076                          0.000005  \n",
       "276699                          0.000034  \n",
       "\n",
       "[5800 rows x 7 columns]"
      ]
     },
     "execution_count": 209,
     "metadata": {},
     "output_type": "execute_result"
    }
   ],
   "source": [
    "X_df"
   ]
  },
  {
   "cell_type": "code",
   "execution_count": 221,
   "metadata": {},
   "outputs": [
    {
     "data": {
      "image/png": "[encoded data removed]",
      "text/plain": [
       "<Figure size 432x288 with 1 Axes>"
      ]
     },
     "metadata": {
      "needs_background": "light"
     },
     "output_type": "display_data"
    }
   ],
   "source": [
    "# plot features\n",
    "full_df = X_df.copy()\n",
    "full_df['label'] = y_df\n",
    "full_df\n",
    "\n",
    "ix = full_df['val__spkt_welch_density__coeff_8']\n",
    "iy = full_df['val__fft_aggregated__aggtype_\"centroid\"'] # spectral centroid\n",
    "\n",
    "def plot_audio_byfeat():    \n",
    "    plt.scatter(ix.loc[full_df['label']==1], iy.loc[full_df['label']==1], marker='x', color='C0')\n",
    "    plt.scatter(ix.loc[full_df['label']==0], iy.loc[full_df['label']==0], marker='+', color='C3')\n",
    "    plt.xlim([0,.015])\n",
    "    plt.ylim([0,150000])\n",
    "    plt.xlabel(\"spectral density\")\n",
    "    plt.ylabel(\"fft centroid\")\n",
    "    plt.legend(['call', 'song'])\n",
    "plot_audio_byfeat()"
   ]
  },
  {
   "cell_type": "code",
   "execution_count": 13,
   "metadata": {},
   "outputs": [],
   "source": [
    "# get train-test split of features\n",
    "\n",
    "X_train, X_test = (\n",
    "    X_df[X_df.index.isin(train_ids)].squeeze(),\n",
    "    X_df[X_df.index.isin(test_ids)].squeeze(),\n",
    ")"
   ]
  },
  {
   "cell_type": "code",
   "execution_count": 14,
   "metadata": {
    "pycharm": {
     "name": "#%%\n"
    }
   },
   "outputs": [
    {
     "name": "stdout",
     "output_type": "stream",
     "text": [
      "0.5910344827586207\n"
     ]
    }
   ],
   "source": [
    "# logistic regression\n",
    "\n",
    "lr = LogisticRegression()\n",
    "lr.fit(X_train, y_train)\n",
    "print(lr.score(X_test, y_test))"
   ]
  },
  {
   "cell_type": "code",
   "execution_count": 222,
   "metadata": {},
   "outputs": [
    {
     "name": "stdout",
     "output_type": "stream",
     "text": [
      "0.6103448275862069\n"
     ]
    }
   ],
   "source": [
    "# logistic regression with normalizing\n",
    "from sklearn.preprocessing import StandardScaler\n",
    "\n",
    "norm = StandardScaler()\n",
    "\n",
    "lr_norm = LogisticRegression()\n",
    "lr_norm.fit(norm.fit_transform(X_train), y_train)\n",
    "print(lr_norm.score(norm.transform(X_test), y_test))"
   ]
  },
  {
   "cell_type": "code",
   "execution_count": 261,
   "metadata": {},
   "outputs": [
    {
     "data": {
      "text/plain": [
       "(array([], dtype=int64),)"
      ]
     },
     "execution_count": 261,
     "metadata": {},
     "output_type": "execute_result"
    }
   ],
   "source": [
    "# looks like the model always predicts call :(\n",
    "np.where(not np.isclose(lr_norm.predict_proba(X_test),[1.,0.]).all())"
   ]
  },
  {
   "cell_type": "code",
   "execution_count": 265,
   "metadata": {},
   "outputs": [
    {
     "name": "stdout",
     "output_type": "stream",
     "text": [
      "18.746218636410145 0.3896551724137931\n",
      "15.792923367532413 0.4572413793103448\n"
     ]
    }
   ],
   "source": [
    "# compare loss and error with baseline\n",
    "from sklearn.metrics import log_loss\n",
    "\n",
    "logreg_pred = lr_norm.predict_proba(X_test)\n",
    "logreg_loss = log_loss(y_test, logreg_pred)\n",
    "logreg_error = (lr_norm.predict(norm.transform(X_test)) != y_test).mean() # mean error\n",
    "\n",
    "baseline_pred = np.repeat(1, y_test.size)\n",
    "baseline_loss = log_loss(y_test, baseline_pred)\n",
    "baseline_error = (1 != y_test).mean()\n",
    "\n",
    "print(logreg_loss, logreg_error)\n",
    "print(baseline_loss, baseline_error)"
   ]
  },
  {
   "cell_type": "markdown",
   "metadata": {},
   "source": [
    "# Full workflow using random smaller subset of data"
   ]
  },
  {
   "cell_type": "code",
   "execution_count": 132,
   "metadata": {},
   "outputs": [],
   "source": [
    "def get_rand_split_ids(percent, train_ids, test_ids):\n",
    "    # random subset of train\n",
    "    train_rand_ids = np.random.choice(train_ids, size=int(len(train_ids)*percent), replace=False)\n",
    "    # random subset of test\n",
    "    test_rand_ids = np.random.choice(test_ids, size=int(len(test_ids)*percent), replace=False)\n",
    "    return train_rand_ids, test_rand_ids"
   ]
  },
  {
   "cell_type": "code",
   "execution_count": 148,
   "metadata": {},
   "outputs": [],
   "source": [
    "# test and compare multiple featurization (feature calculator) options\n",
    "# useful to run on a subset of the data\n",
    "\n",
    "def test_multiple_featurizations(train_rand_ids, test_rand_ids, *featurization_lst):\n",
    "    all_rand_ids = np.concatenate((train_rand_ids, test_rand_ids))\n",
    "\n",
    "    # lists across feature calcs:\n",
    "    X_rand_lst = [] # df of features\n",
    "    X_train_rand_lst = [] # df of features for train\n",
    "    X_test_rand_lst = [] # df of features for test\n",
    "    models_lst = [] # lr models\n",
    "    scores_lst = []\n",
    "    \n",
    "    # make train-test splits of labels\n",
    "    y_train_rand, y_test_rand = (\n",
    "        y_df[y_df.index.isin(train_rand_ids)].drop(columns=[\"id\"]).squeeze(),\n",
    "        y_df[y_df.index.isin(test_rand_ids)].drop(columns=[\"id\"]).squeeze(),\n",
    "    )\n",
    "\n",
    "    # run through full workflow for each feature calculator\n",
    "    for featurization in featurization_lst:\n",
    "        # featurize data from given ids\n",
    "        X_rand = featurize_set(all_rand_ids, featurization)\n",
    "        X_rand_lst.append(X_rand)\n",
    "\n",
    "        # make train-test splits of featurized data\n",
    "        X_train_rand, X_test_rand = (\n",
    "            X_rand[X_rand.index.isin(train_rand_ids)].squeeze(),\n",
    "            X_rand[X_rand.index.isin(test_rand_ids)].squeeze(),\n",
    "        )\n",
    "        # Why doesn't X_rand.loc[train_rand_ids,:] work? (wrong # rows)\n",
    "        X_train_rand_lst.append(X_test_rand)\n",
    "        X_test_rand_lst.append(X_train_rand)\n",
    "\n",
    "        # train models\n",
    "        lr = LogisticRegression()\n",
    "        lr.fit(X_train_rand, y_train_rand)\n",
    "        models_lst.append(lr)\n",
    "\n",
    "        # score models\n",
    "        score = lr.score(X_test_rand, y_test_rand)\n",
    "        scores_lst.append(score)\n",
    "\n",
    "    return X_rand_lst, models_lst, scores_lst"
   ]
  },
  {
   "cell_type": "code",
   "execution_count": 149,
   "metadata": {},
   "outputs": [
    {
     "name": "stdout",
     "output_type": "stream",
     "text": [
      "1    111\n",
      "0    106\n",
      "Name: pred, dtype: int64\n",
      "0    38\n",
      "1    34\n",
      "Name: pred, dtype: int64\n"
     ]
    }
   ],
   "source": [
    "# generate random ids from 5% of dataset\n",
    "train_rand_ids, test_rand_ids = get_rand_split_ids(.05, train_ids, test_ids)\n",
    "\n",
    "# make train-test splits of labels\n",
    "y_train_rand, y_test_rand = (\n",
    "    y_df[y_df.index.isin(train_rand_ids)].drop(columns=[\"id\"]).squeeze(),\n",
    "    y_df[y_df.index.isin(test_rand_ids)].drop(columns=[\"id\"]).squeeze(),\n",
    ")\n",
    "\n",
    "# check that we have a good distribution of value counts\n",
    "print(y_train_rand.value_counts())\n",
    "print(y_test_rand.value_counts())"
   ]
  },
  {
   "cell_type": "code",
   "execution_count": 155,
   "metadata": {},
   "outputs": [
    {
     "name": "stdout",
     "output_type": "stream",
     "text": [
      "217\n",
      "217\n"
     ]
    }
   ],
   "source": [
    "print(len(train_rand_ids))\n",
    "print(len(y_train_rand))"
   ]
  },
  {
   "cell_type": "code",
   "execution_count": 151,
   "metadata": {},
   "outputs": [],
   "source": [
    "# Features to extract (options)\n",
    "\n",
    "# presets can be found here: https://tsfresh.readthedocs.io/en/latest/api/tsfresh.feature_extraction.html#tsfresh.feature_extraction.settings.ComprehensiveFCParameters\n",
    "# with more details here: https://tsfresh.readthedocs.io/en/latest/_modules/tsfresh/feature_extraction/settings.html#MinimalFCParameters\n",
    "# manual_fc_params\n",
    "# selected_fc_params\n",
    "# EfficientFCParameters()\n",
    "# ComprehensiveFCParameters()\n",
    "# MinimalFCParameters()\n",
    "\n",
    "\n",
    "manual_fc_params_A = {\n",
    "                        \"abs_energy\": None,\n",
    "                        \"fft_aggregated\": [{\"aggtype\":\"centroid\"}, {\"aggtype\":\"kurtosis\"}],\n",
    "                        \"root_mean_square\": None,\n",
    "                        \"spkt_welch_density\": [{\"coeff\":2},{\"coeff\":5},{\"coeff\":8}]\n",
    "}\n",
    "\n",
    "# manual_fc_params_B = {\n",
    "#                         \"abs_energy\": None,\n",
    "#                         \"fft_aggregated\": [{\"aggtype\":\"centroid\"}],\n",
    "#                         \"root_mean_square\": None,\n",
    "#                         \"spkt_welch_density\": [{\"coeff\":2},{\"coeff\":5},{\"coeff\":8}]\n",
    "# }\n",
    "# manual_fc_params_C = {\n",
    "#                         \"abs_energy\": None,\n",
    "#                         \"fft_aggregated\": [{\"aggtype\":\"centroid\"}, {\"aggtype\":\"kurtosis\"}],\n",
    "#                         \"root_mean_square\": None,\n",
    "#                         \"spkt_welch_density\": [{\"coeff\":2},{\"coeff\":5},{\"coeff\":8}],\n",
    "#                         \"number_crossing_m\": [{\"m\":0}]\n",
    "# }\n",
    "\n",
    "\n",
    "# manual_fc_params_B = {\n",
    "#                         \"abs_energy\": None,\n",
    "#                         \"fft_aggregated\": [{\"aggtype\":\"centroid\"}, {\"aggtype\":\"kurtosis\"}, {\"aggtype\":\"skew\"}, {\"aggtype\":\"variance\"}],\n",
    "#                         \"root_mean_square\": None,\n",
    "#                         \"spkt_welch_density\": [{\"coeff\":2},{\"coeff\":5},{\"coeff\":8}]\n",
    "# }"
   ]
  },
  {
   "cell_type": "code",
   "execution_count": 154,
   "metadata": {},
   "outputs": [
    {
     "name": "stderr",
     "output_type": "stream",
     "text": [
      "100%|██████████| 289/289 [02:26<00:00,  1.97it/s]\n",
      "100%|██████████| 289/289 [02:25<00:00,  1.98it/s]\n",
      "100%|██████████| 289/289 [02:34<00:00,  1.87it/s]\n"
     ]
    }
   ],
   "source": [
    "# takes 3 mins for manual, 5% of dataset\n",
    "# takes 168.2 s for minimal, 5% of dataset\n",
    "# takes 169s for selected (3 features), 5% of dataset\n",
    "# takes 542s (9m) for all 3, 5% of dataset\n",
    "# takes 13h for efficient fc, 0.5% of dataset\n",
    "\n",
    "X_rand_lst, models_lst, scores_lst = test_multiple_featurizations(train_rand_ids, test_rand_ids, MinimalFCParameters(), selected_fc_params, manual_fc_params)\n",
    "# X_rand_lst, models_lst, scores_lst = test_multiple_featurizations(train_rand_ids, test_rand_ids, manual_fc_params_A, manual_fc_params_B, manual_fc_params_C)\n",
    "# X_rand_lst, models_lst, scores_lst = test_multiple_featurizations(train_rand_ids, test_rand_ids, manual_fc_params_B)\n",
    "# X_rand_lst, models_lst, scores_lst = test_multiple_featurizations(train_rand_ids, test_rand_ids, EfficientFCParameters())"
   ]
  },
  {
   "cell_type": "code",
   "execution_count": 156,
   "metadata": {},
   "outputs": [
    {
     "name": "stdout",
     "output_type": "stream",
     "text": [
      "0.4722222222222222\n",
      "0.4722222222222222\n",
      "0.5\n"
     ]
    }
   ],
   "source": [
    "for score in scores_lst:\n",
    "    print(score)"
   ]
  },
  {
   "cell_type": "code",
   "execution_count": 158,
   "metadata": {},
   "outputs": [],
   "source": [
    "compare_preset_sel_manual = {'X': X_rand_lst.copy(), 'models': models_lst.copy(), 'scores': scores_lst.copy()}\n",
    "# compare_manual = {'X': X_rand_ls.copy(), 'models': models_lst.copy(), 'scores': scores_lst.copy()}"
   ]
  },
  {
   "cell_type": "code",
   "execution_count": 160,
   "metadata": {},
   "outputs": [
    {
     "data": {
      "text/plain": [
       "{}"
      ]
     },
     "execution_count": 160,
     "metadata": {},
     "output_type": "execute_result"
    }
   ],
   "source": [
    "# select good features from the first feature calculator list\n",
    "# make train-test splits of featurized data\n",
    "X_for_selection = X_rand_lst[0]\n",
    "X_train_for_selection, X_test_for_selection = (\n",
    "    X_for_selection[X_for_selection.index.isin(train_rand_ids)].squeeze(),\n",
    "    X_for_selection[X_for_selection.index.isin(test_rand_ids)].squeeze(),\n",
    ")\n",
    "\n",
    "X_selected = select_features(X_train_for_selection, y_train_rand)\n",
    "\n",
    "# get a dictionary of the good features parameters, to use again later\n",
    "kind_to_fc_parameters = from_columns(X_selected)\n",
    "# new_selected_fc_params = kind_to_fc_parameters['val']"
   ]
  },
  {
   "cell_type": "code",
   "execution_count": 246,
   "metadata": {},
   "outputs": [
    {
     "name": "stdout",
     "output_type": "stream",
     "text": [
      "0.4722222222222222\n",
      "0.4722222222222222\n",
      "0.5833333333333334\n"
     ]
    }
   ],
   "source": [
    "for score in compare_preset_sel_manual['scores']:\n",
    "    print(score)\n",
    "# for score in compare_manual['scores']:\n",
    "#     print(score)"
   ]
  }
 ],
 "metadata": {
  "kernelspec": {
   "display_name": "Python 3.8.5 64-bit ('venv': venv)",
   "language": "python",
   "name": "python385jvsc74a57bd09d6766ad3736c29ebfe40ecf2d41a2944950e1cce237755c2a58ee0718f8bfc6"
  },
  "language_info": {
   "codemirror_mode": {
    "name": "ipython",
    "version": 3
   },
   "file_extension": ".py",
   "mimetype": "text/x-python",
   "name": "python",
   "nbconvert_exporter": "python",
   "pygments_lexer": "ipython3",
   "version": "3.8.5"
  },
  "metadata": {
   "interpreter": {
    "hash": "9d6766ad3736c29ebfe40ecf2d41a2944950e1cce237755c2a58ee0718f8bfc6"
   }
  }
 },
 "nbformat": 4,
 "nbformat_minor": 4
}
