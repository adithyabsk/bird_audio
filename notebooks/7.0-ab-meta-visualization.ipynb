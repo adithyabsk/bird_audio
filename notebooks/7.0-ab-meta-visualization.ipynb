{
 "cells": [
  {
   "cell_type": "code",
   "execution_count": 1,
   "metadata": {
    "collapsed": true
   },
   "outputs": [],
   "source": [
    "from datetime import datetime\n",
    "from pathlib import Path\n",
    "\n",
    "import geopandas as gpd\n",
    "import matplotlib.pyplot as plt\n",
    "import pandas as pd\n",
    "import plotly.express as px\n",
    "import seaborn as sns\n",
    "\n",
    "sns.set_style(\"white\")\n",
    "\n",
    "ROOT_PATH = Path(\"..\")"
   ]
  },
  {
   "cell_type": "code",
   "execution_count": 2,
   "outputs": [],
   "source": [
    "# Load Data\n",
    "_df = pd.read_csv(ROOT_PATH / \"data/raw/metadata.csv\")\n",
    "svc_ids = pd.read_json(ROOT_PATH / \"data/raw/song_vs_call.json\").squeeze()\n",
    "svc_df = _df.loc[_df.id.isin(svc_ids)].copy()\n",
    "\n",
    "# Add response variable\n",
    "type_col = svc_df.type.str.lower().str.replace(\" \", \"\").str.split(\",\")\n",
    "svc_df[\"pred\"] = type_col.apply(lambda l: \"call\" in l).astype(int)"
   ],
   "metadata": {
    "collapsed": false,
    "pycharm": {
     "name": "#%%\n"
    }
   }
  },
  {
   "cell_type": "code",
   "execution_count": 3,
   "outputs": [
    {
     "name": "stdout",
     "output_type": "stream",
     "text": [
      "Number of rows: 5800\n",
      "Percent NaN in svc_df.date: 0.52%\n"
     ]
    },
    {
     "data": {
      "text/plain": "<Figure size 432x288 with 1 Axes>",
      "image/png": "[encoded data removed]"
     },
     "metadata": {},
     "output_type": "display_data"
    }
   ],
   "source": [
    "# Build song vs call over time of year heat map\n",
    "# We go through all of the labels and aggregate them by month, and then plot an area graph that\n",
    "# will show the break up between the two\n",
    "svc_df.date = pd.to_datetime(svc_df.date, format=\"%Y-%m-%d\", errors=\"coerce\")\n",
    "percent_nan = svc_df.date.isnull().sum() * 100 / len(svc_df)\n",
    "print(f\"Number of rows: {len(svc_df)}\")\n",
    "print(f\"Percent NaN in svc_df.date: {percent_nan:.2f}%\")\n",
    "call_info = (\n",
    "    svc_df[[\"date\", \"pred\"]]\n",
    "    .groupby(svc_df.date.dt.month)\n",
    "    .agg({\"pred\": [\"sum\", \"count\"]})\n",
    ")\n",
    "call_info.columns = call_info.columns.get_level_values(1)  # drop the top index\n",
    "call_info[\"call_pct\"] = call_info[\"sum\"] / call_info[\"count\"] * 100\n",
    "call_info[\"song_pct\"] = 100 - call_info.call_pct\n",
    "call_info.head()\n",
    "\n",
    "# Convert integers months to the string rep\n",
    "x = (\n",
    "    call_info.index.to_series()\n",
    "    .apply(lambda m_num: datetime(year=1, month=int(m_num), day=10).strftime(\"%b\"))\n",
    "    .tolist()\n",
    ")\n",
    "y = call_info[[\"call_pct\", \"song_pct\"]].T.values.tolist()\n",
    "f, ax = plt.subplots()\n",
    "ax.grid(False)\n",
    "ax.stackplot(x, y, labels=[\"calls\", \"songs\"])\n",
    "ax.legend(bbox_to_anchor=(1, 1), loc=\"upper left\", ncol=1)\n",
    "sns.despine(f, ax, offset=5, trim=True)\n",
    "ax.set_xlabel(\"Month\")\n",
    "ax.set_ylabel(\"Percent\")\n",
    "ax.set_title(\"Song and Call Percent vs Month\")\n",
    "fig_name = \"svc_vs_month.png\"\n",
    "f.tight_layout()\n",
    "f.savefig(f\"assets/{fig_name}\", dpi=150)"
   ],
   "metadata": {
    "collapsed": false,
    "pycharm": {
     "name": "#%%\n"
    }
   }
  },
  {
   "cell_type": "code",
   "execution_count": 33,
   "outputs": [],
   "source": [
    "# usa = gpd.read_file(\"assets/states_21basic/states.shp\")\n",
    "#\n",
    "# # usa_ax = usa[~usa.STATE_NAME.isin([\"Hawaii\", \"Alaska\"])].plot(\n",
    "# #     color=\"white\", edgecolor=\"black\"\n",
    "# # )\n",
    "#\n",
    "# geo_df = gpd.GeoDataFrame(\n",
    "#     svc_df, geometry=gpd.points_from_xy(svc_df.lng, svc_df.lat)\n",
    "# ).dropna(subset=[\"lng\", \"lat\"])\n",
    "# # ax = usa.plot()\n",
    "# # geo_df.plot(ax=usa_ax)\n",
    "#\n",
    "# usa.head()\n",
    "# mdf = gpd.sjoin(geo_df, usa, how=\"right\", op=\"within\")\n",
    "# mdf.head()\n",
    "# # mdf[\"state_geo\"] = mdf.STATE_NAME.apply(lambda sn: usa.loc[usa.STATE_NAME==sn, \"geometry\"])\n",
    "# # usa.loc[usa.STATE_NAME==\"Alaska\", \"geometry\"]\n",
    "#\n",
    "# # fig = px.choropleth(\n",
    "# #     mdf,\n",
    "# #     geojson=mdf.geometry,\n",
    "# #     locations=mdf.STATE_NAME,\n",
    "# #     # locationmode=\"USA-states\",\n",
    "# #     color=\"pred\",\n",
    "# #     # scope=\"usa\"\n",
    "# # )\n",
    "# # fig.update_geos(fitbounds=\"locations\", visible=False)\n",
    "# # fig.show()"
   ],
   "metadata": {
    "collapsed": false,
    "pycharm": {
     "name": "#%%\n"
    }
   }
  },
  {
   "cell_type": "code",
   "execution_count": null,
   "outputs": [],
   "source": [],
   "metadata": {
    "collapsed": false,
    "pycharm": {
     "name": "#%%\n"
    }
   }
  }
 ],
 "metadata": {
  "kernelspec": {
   "display_name": "Python 3",
   "language": "python",
   "name": "python3"
  },
  "language_info": {
   "codemirror_mode": {
    "name": "ipython",
    "version": 2
   },
   "file_extension": ".py",
   "mimetype": "text/x-python",
   "name": "python",
   "nbconvert_exporter": "python",
   "pygments_lexer": "ipython2",
   "version": "2.7.6"
  }
 },
 "nbformat": 4,
 "nbformat_minor": 0
}