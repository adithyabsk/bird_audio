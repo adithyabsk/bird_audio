{
 "cells": [
  {
   "cell_type": "markdown",
   "source": "# Background",
   "metadata": {
    "tags": [],
    "cell_id": "00000-a774d856-ca38-4222-9638-72b22af0bee6",
    "deepnote_cell_type": "markdown"
   }
  },
  {
   "cell_type": "markdown",
   "source": "## BirdCast Migration\n[Predicts bird migration](https://birdcast.info/migration-tools/) based on weather data\n- Birds migrate primarily at night\n![Predicting bird migration based on weather data](https://s3.amazonaws.com/is-birdcast-predicted-prod/images/day1.jpg)",
   "metadata": {
    "tags": [],
    "cell_id": "00001-7078ece9-3cfa-404d-9b43-a7a1a0036290",
    "deepnote_cell_type": "markdown"
   }
  },
  {
   "cell_type": "markdown",
   "source": "## Lights Out Initiative\nLight disorients birds migrating at night, makes them more likely to collide with buildings\n\n- [the initiative](https://birdcast.info/science-to-action/lights-out/)\n- [background](https://birdcast.info/science-to-action/lights-out/resources/)",
   "metadata": {
    "tags": [],
    "cell_id": "00002-835d988e-f44e-4ee2-82ac-900a82c3ba61",
    "deepnote_cell_type": "markdown"
   }
  },
  {
   "cell_type": "markdown",
   "source": "## Experiments with Google: Bird Sounds\nGoogle Creative Lab built a t-SNE clustering visualization on sounds from Cornell Ornithology's dataset across many species.\n\n[Project Link](https://experiments.withgoogle.com/ai/bird-sounds/view/)",
   "metadata": {
    "tags": [],
    "cell_id": "00003-49443f43-d6cb-4236-821a-ba878062991a",
    "deepnote_cell_type": "markdown"
   }
  },
  {
   "cell_type": "markdown",
   "source": "# Background: Bird Calls\nhttps://www.audubon.org/news/a-beginners-guide-common-bird-sounds-and-what-they-mean\nhttps://www.allaboutbirds.org/news/how-to-learn-bird-songs-and-calls/\nhttps://towardsdatascience.com/sound-based-bird-classification-965d0ecacb2b\nhttps://www.audubon.org/news/how-start-identifying-birds-their-songs-and-calls\n",
   "metadata": {
    "tags": [],
    "cell_id": "00004-8cd52b34-e696-4dd5-b5d4-e3f8e0fb38be",
    "deepnote_cell_type": "markdown"
   }
  },
  {
   "cell_type": "markdown",
   "source": "# Background: Previous work on intraspecific variation\n## Gender identification using acoustic analysis in birds without external sexual dimorphism [[Link]] (https://avianres.biomedcentral.com/articles/10.1186/s40657-015-0033-y)\n> Volodin, I.A., Volodina, E.V., Klenova, A.V. et al. Gender identification using acoustic analysis in birds without external sexual dimorphism. Avian Res 6, 20 (2015). https://doi.org/10.1186/s40657-015-0033-y\n\n### Useful Terms\n**Call** : Bird vocalization\n\n**Song** : Courtship or territorial vocalization, typically from male songbirds in characteristic phrases\n\n**Note** : Smallest unit of vocalization, an uninterrupted trace on the spectrogram\n\n**Syllable** : Combination of notes that are separated by short intervals; syllables are separated by longer intervals\n\n**Rhythmic structure** : The way notes, syllables, or calls repeat (count and rate of repetition)\n\n**Fundamental frequency** : The call pitch, visible on a spectrogram usually as the lowest band in a stack of integer-multiple bands (harmonics)\n\n**Harmonics** : Integer multiple frequency bands upon the fundamental frequency band.\n\n**Frequency modulation** : Changes in fundamental frequency contour during a call\n\n**Tonal call** : Call, containing the fundamental frequency and its related harmonics.\n\n**Noisy call** : Call where the fundamental frequency and harmonics are indistinguishable or lacking from the inside. Looks like uniform noise on the spectrogram.\n\n**Dominant frequency** : The frequency where the maximum energy of a call is concentrated.\n\n### Background\n- Determining the sex of adult birds using their calls is useful for monomorphic birds (no difference in appearance across sexes), is noninvasive, and may be done at a distance\n- It is important to sex birds for wildlife management - breeding and census estimates\n- Bird calls likely differ across sexes due to differences in morphology (e.g. size of beak, vocal organ, trachea), the method of producing a call, or in the type of calls/songs\n\n### Contribution\n- Researchers used spectrograms and power spectra\n![spectrograms](https://media.springernature.com/lw685/springer-static/image/art%3A10.1186%2Fs40657-015-0033-y/MediaObjects/40657_2015_33_Fig1_HTML.gif?as=webp)\n- They used simple visual inspection (without measuring acoustic variables) for certain species, or using Discriminate Function Analysis when acoustic variables overlapped more across sexes.\n    - DFA accuracy > 70% was considered sufficient but low reliability for sexing by call (50% would be equivalent to random chance)\n    - 91 - 100% : perfect reliability\n- Relevant vocal features for differentiating sex were:\n    - Average fundamental frequency\n    - Maximum fundamental frequency\n    - Biphonation (2 independent fundamental frequencies)\n    - Duration of notes\n    - Number of syllables in call\n    - Amplitude modulation (wideband spectra)\n    - Intervals between syallables\n\n## Further Reading\n- [2009 Classifying Bird Calls with Supervised Learning](https://eecs.oregonstate.edu/research/bioacoustics/briggs_icdm09.pdf) - useful background on audio features\n- [How Birds Develop Song Dialects](https://sora.unm.edu/sites/default/files/journals/condor/v077n04/p0385-p0406.pdf) - regional dialects in birdsong\n- [Do bird calls of the same species differ across countries?](https://www.researchgate.net/post/Does-bird-calls-of-same-species-from-one-country-differ-from-the-calls-from-other-country) - Researchgate forum, some more links here\n\n## Regional dialects have been discovered among many bird species and the Yellowhammer is a great example [[Link]](https://bou.org.uk/yellowhammer-dialects/)\n\nBirds have been observed to have regional dialects, as a result of ecological drivers, [human disturbances](https://academic.oup.com/beheco/article/30/6/1501/5526711?login=true), and cultural evolution.\n\nA famous citizen science project took place in the Czech Republic starting in 2011 to study dialects of Yellowhammer birds (easily recognized). It revealed two main dialect groups and the border between, and brought up more questions like: How are the dialects maintained? What causes the dialect boundaries between neighboring habitats? How do dialects evolve?\n![yellowhammer dialects](https://bou.org.uk/wp-content/uploads/2013/05/Pipek-fig2-530x296.png)",
   "metadata": {
    "tags": [],
    "cell_id": "00004-9025ad6c-55d1-4352-8e03-f18a99d667d4",
    "deepnote_cell_type": "markdown"
   }
  },
  {
   "cell_type": "markdown",
   "source": "# Data",
   "metadata": {
    "tags": [],
    "cell_id": "00004-c9273a60-75db-42e4-8624-a15759aa5e62",
    "deepnote_cell_type": "markdown"
   }
  },
  {
   "cell_type": "markdown",
   "source": "## eBird Dataset\nContributed audio\n\nhttps://support.ebird.org/en/support/solutions/articles/48000795278-the-ebird-review-process",
   "metadata": {
    "tags": [],
    "cell_id": "00005-c8034eec-28e6-4e3e-a8db-a3eb84b5e989",
    "deepnote_cell_type": "markdown"
   }
  },
  {
   "cell_type": "markdown",
   "source": "## xento-canto\nXeno-canto is a website for collecting and sharing audio recordings of birds. Recordings and identifications are sourced from the community (anyone can join), as are recording quality ratings and flags for wrong IDs. \n\n### Quality\nRecordings are rated by community members according to this criteria:\n- A: Loud and Clear\n- B: Clear, but bird a bit distant, or some interference with other sound sources\n- C: Moderately clear, or quite some interference\n- D: Faint recording, or much interference\n- E: Barely audible\n\n### Accuracy\nRecording IDs are submitted by users, and can be flagged as wrong by other community members. When an ID is flagged as wrong, it's removed from search results and the discussion is posted to the site forum and on the recording page.",
   "metadata": {
    "tags": [],
    "cell_id": "00006-12dff785-eb04-4632-a2a7-552f4705af8d",
    "deepnote_cell_type": "markdown"
   }
  },
  {
   "cell_type": "markdown",
   "source": "<a style='text-decoration:none;line-height:16px;display:flex;color:#5B5B62;padding:10px;justify-content:end;' href='https://deepnote.com?utm_source=created-in-deepnote-cell&projectId=6b2ae77c-22c0-4e92-b8f6-ab962db6bbab' target=\"_blank\">\n<img alt='Created in deepnote.com' style='display:inline;max-height:16px;margin:0px;margin-right:7.5px;' src='data:image/svg+xml;base64,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' > </img>\nCreated in <span style='font-weight:600;margin-left:4px;'>Deepnote</span></a>",
   "metadata": {
    "tags": [],
    "created_in_deepnote_cell": true,
    "deepnote_cell_type": "markdown"
   }
  }
 ],
 "nbformat": 4,
 "nbformat_minor": 2,
 "metadata": {
  "orig_nbformat": 2,
  "deepnote": {
   "is_reactive": false
  },
  "deepnote_notebook_id": "4ec5881a-615b-46a1-9392-8935165b388a",
  "deepnote_execution_queue": []
 }
}