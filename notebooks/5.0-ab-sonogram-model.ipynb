{
 "cells": [
  {
   "cell_type": "code",
   "execution_count": 18,
   "metadata": {
    "collapsed": true
   },
   "outputs": [],
   "source": [
    "import json\n",
    "from pathlib import Path\n",
    "\n",
    "import pandas as pd\n",
    "from fastai.vision.all import cnn_learner\n",
    "from fastai.vision.data import ImageDataLoaders\n",
    "from fastai.vision.models import xresnet\n",
    "\n",
    "ROOT_PATH = Path(\"..\")"
   ]
  },
  {
   "cell_type": "code",
   "execution_count": 19,
   "metadata": {
    "pycharm": {
     "name": "#%%\n"
    }
   },
   "outputs": [],
   "source": [
    "# Setup y_train, y_test\n",
    "df = pd.read_csv(ROOT_PATH / \"data/raw/metadata.csv\")\n",
    "svc_ids = pd.read_json(ROOT_PATH / \"data/raw/song_vs_call.json\").squeeze()\n",
    "svc_df = df.loc[df.id.isin(svc_ids)].copy()\n",
    "\n",
    "with open(ROOT_PATH / \"data/processed/svc_split.json\") as svc_split_file:\n",
    "    svc_split = json.load(svc_split_file)\n",
    "    train_ids = svc_split[\"train_ids\"]\n",
    "    test_ids = svc_split[\"test_ids\"]\n",
    "\n",
    "# Add response variable\n",
    "type_col = svc_df.type.str.lower().str.replace(\" \", \"\").str.split(\",\")\n",
    "filtered_type_col = type_col.apply(lambda l: set(l) - {\"call\", \"song\"})\n",
    "svc_df[\"label\"] = type_col.apply(lambda l: \"call\" in l).astype(int)\n",
    "\n",
    "y_df = svc_df.reindex(columns=[\"id\", \"pred\"]).copy()\n",
    "y_train, y_test = (\n",
    "    y_df[y_df.id.isin(train_ids)].drop(columns=[\"id\"]).squeeze(),\n",
    "    y_df[y_df.id.isin(test_ids)].drop(columns=[\"id\"]).squeeze(),\n",
    ")"
   ]
  },
  {
   "cell_type": "code",
   "execution_count": 20,
   "metadata": {
    "pycharm": {
     "name": "#%%\n"
    }
   },
   "outputs": [],
   "source": [
    "svc_df[\"name\"] = svc_df.id.astype(str) + \".png\"\n",
    "svc_df[\"is_valid\"] = svc_df.id.isin(test_ids)\n",
    "image_df = (\n",
    "    svc_df.reindex(columns=[\"id\", \"name\", \"label\", \"is_valid\"]).set_index(\"id\").copy()\n",
    ")"
   ]
  },
  {
   "cell_type": "code",
   "execution_count": 23,
   "metadata": {
    "pycharm": {
     "name": "#%%\n"
    }
   },
   "outputs": [],
   "source": [
    "bs = 64  # Batch size\n",
    "data = (\n",
    "    # convert_mode is passed on intern|ally to the relevant function that will handle converting the images;\n",
    "    # 'L' results in one color channel\n",
    "    ImageDataLoaders.from_df(\n",
    "        image_df, folder=ROOT_PATH / \"data/raw/sonograms\", valid_col=\"is_valid\"\n",
    "    )\n",
    "    # .databunch(bs=bs).normalize()\n",
    ")\n",
    "learn = cnn_learner(data, xresnet.xresnet34)"
   ]
  },
  {
   "cell_type": "code",
   "execution_count": null,
   "metadata": {
    "pycharm": {
     "name": "#%%\n"
    }
   },
   "outputs": [],
   "source": [
    "learn.fine_tune(1)"
   ]
  }
 ],
 "metadata": {
  "kernelspec": {
   "display_name": "Python 3",
   "language": "python",
   "name": "python3"
  },
  "language_info": {
   "codemirror_mode": {
    "name": "ipython",
    "version": 3
   },
   "file_extension": ".py",
   "mimetype": "text/x-python",
   "name": "python",
   "nbconvert_exporter": "python",
   "pygments_lexer": "ipython3",
   "version": "3.8.0"
  }
 },
 "nbformat": 4,
 "nbformat_minor": 1
}