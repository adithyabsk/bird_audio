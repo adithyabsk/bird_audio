{
 "cells": [
  {
   "cell_type": "code",
   "execution_count": 2,
   "metadata": {},
   "outputs": [],
   "source": [
    "from IPython import get_ipython\n",
    "\n",
    "IS_COLAB = False\n",
    "if \"google.colab\" in str(get_ipython()):\n",
    "    # Make sure to go to Runtime > Change runtime type > Hardware Accelerator: GPU\n",
    "    IS_COLAB = True\n",
    "    !pip install fastai --upgrade -q\n",
    "    !pip freeze | grep fast"
   ]
  },
  {
   "cell_type": "code",
   "execution_count": null,
   "outputs": [],
   "source": [
    "if IS_COLAB:\n",
    "    from google.colab import drive\n",
    "\n",
    "    drive.mount(\"/gdrive\")\n",
    "    %cd /gdrive\n",
    "    %ls MyDrive/"
   ],
   "metadata": {
    "collapsed": false,
    "pycharm": {
     "name": "#%%\n"
    }
   }
  },
  {
   "cell_type": "code",
   "execution_count": null,
   "outputs": [],
   "source": [
    "import json\n",
    "from pathlib import Path\n",
    "\n",
    "import pandas as pd\n",
    "from fastai.learner import load_model, save_model\n",
    "from fastai.vision.all import cnn_learner\n",
    "from fastai.vision.data import ImageDataLoaders\n",
    "from fastai.vision.models import xresnet\n",
    "\n",
    "ROOT_PATH = Path(\"..\")\n",
    "TRAIN = False\n",
    "if IS_COLAB:\n",
    "    import torch\n",
    "\n",
    "    # Make sure that this path exists\n",
    "    ROOT_PATH = Path(\"MyDrive/pracds_final\")\n",
    "    print(torch.cuda.get_device_name(0))"
   ],
   "metadata": {
    "collapsed": false,
    "pycharm": {
     "name": "#%%\n"
    }
   }
  },
  {
   "cell_type": "code",
   "execution_count": 2,
   "metadata": {
    "pycharm": {
     "name": "#%%\n"
    }
   },
   "outputs": [],
   "source": [
    "# Setup y_train, y_test\n",
    "df = pd.read_csv(ROOT_PATH / \"data/raw/metadata.csv\")\n",
    "svc_ids = pd.read_json(ROOT_PATH / \"data/raw/song_vs_call.json\").squeeze()\n",
    "svc_df = df.loc[df.id.isin(svc_ids)].copy()\n",
    "\n",
    "with open(ROOT_PATH / \"data/processed/svc_split.json\") as svc_split_file:\n",
    "    svc_split = json.load(svc_split_file)\n",
    "    train_ids = svc_split[\"train_ids\"]\n",
    "    test_ids = svc_split[\"test_ids\"]\n",
    "\n",
    "# Add response variable\n",
    "type_col = svc_df.type.str.lower().str.replace(\" \", \"\").str.split(\",\")\n",
    "filtered_type_col = type_col.apply(lambda l: set(l) - {\"call\", \"song\"})\n",
    "svc_df[\"label\"] = type_col.apply(lambda l: \"call\" in l).astype(int)\n",
    "\n",
    "y_df = svc_df.reindex(columns=[\"id\", \"pred\"]).copy()\n",
    "y_train, y_test = (\n",
    "    y_df[y_df.id.isin(train_ids)].drop(columns=[\"id\"]).squeeze(),\n",
    "    y_df[y_df.id.isin(test_ids)].drop(columns=[\"id\"]).squeeze(),\n",
    ")"
   ]
  },
  {
   "cell_type": "code",
   "execution_count": 3,
   "metadata": {
    "pycharm": {
     "name": "#%%\n"
    }
   },
   "outputs": [],
   "source": [
    "svc_df[\"name\"] = svc_df.id.astype(str) + \".png\"\n",
    "svc_df[\"is_valid\"] = svc_df.id.isin(test_ids)\n",
    "image_df = (\n",
    "    svc_df.reindex(columns=[\"id\", \"name\", \"label\", \"is_valid\"]).set_index(\"id\").copy()\n",
    ")"
   ]
  },
  {
   "cell_type": "code",
   "execution_count": 6,
   "metadata": {
    "pycharm": {
     "name": "#%%\n"
    }
   },
   "outputs": [],
   "source": [
    "# bs = 64  # Batch size\n",
    "kwargs = {}\n",
    "if IS_COLAB:\n",
    "    kwargs[\"num_workers\"] = 0\n",
    "data = (\n",
    "    # convert_mode is passed on intern|ally to the relevant function that will handle converting the images;\n",
    "    # 'L' results in one color channel\n",
    "    ImageDataLoaders.from_df(\n",
    "        image_df,\n",
    "        folder=ROOT_PATH / \"data/raw/sonograms\",\n",
    "        valid_col=\"is_valid\",\n",
    "        # num_works needs to be set to 0 for local evaluation to turn off multiprocessing\n",
    "        **kwargs\n",
    "    )\n",
    ")\n",
    "learn = cnn_learner(data, xresnet.xresnet34)"
   ]
  },
  {
   "cell_type": "code",
   "execution_count": null,
   "metadata": {},
   "outputs": [],
   "source": [
    "# Make sure this path exists on colab\n",
    "model_path = (ROOT_PATH / \"models/sono_model.pth\").resolve().absolute()\n",
    "if IS_COLAB and TRAIN:\n",
    "    # Fine tune model\n",
    "    learn.fine_tune(1)\n",
    "    # GDrive fails when you try to use mkdir\n",
    "    # so we manually call `save_model`\n",
    "    save_model(model_path, learn.model, getattr(learn, \"opt\", None))\n",
    "    %ls -al /home\n",
    "    from google.colab import files\n",
    "\n",
    "    files.download(model_path)\n",
    "else:\n",
    "    load_model(model_path, learn.model, learn.opt)"
   ]
  },
  {
   "cell_type": "code",
   "execution_count": 7,
   "metadata": {
    "pycharm": {
     "name": "#%%\n"
    }
   },
   "outputs": [
    {
     "data": {
      "text/html": [],
      "text/plain": [
       "<IPython.core.display.HTML object>"
      ]
     },
     "metadata": {},
     "output_type": "display_data"
    },
    {
     "data": {
      "text/plain": [
       "(#1) [0.5482389330863953]"
      ]
     },
     "execution_count": 7,
     "metadata": {},
     "output_type": "execute_result"
    }
   ],
   "source": [
    "learn.validate()\n",
    "# learn.predict(ROOT_PATH / \"data/raw/sonograms/1136.png\")"
   ]
  }
 ],
 "metadata": {
  "kernelspec": {
   "display_name": "Python 3",
   "language": "python",
   "name": "python3"
  },
  "language_info": {
   "codemirror_mode": {
    "name": "ipython",
    "version": 3
   },
   "file_extension": ".py",
   "mimetype": "text/x-python",
   "name": "python",
   "nbconvert_exporter": "python",
   "pygments_lexer": "ipython3",
   "version": "3.8.0"
  }
 },
 "nbformat": 4,
 "nbformat_minor": 1
}