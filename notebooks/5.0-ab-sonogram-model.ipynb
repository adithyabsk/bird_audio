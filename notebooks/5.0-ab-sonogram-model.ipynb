{
 "nbformat": 4,
 "nbformat_minor": 0,
 "metadata": {
  "kernelspec": {
   "display_name": "Python 3",
   "language": "python",
   "name": "python3"
  },
  "language_info": {
   "codemirror_mode": {
    "name": "ipython",
    "version": 3
   },
   "file_extension": ".py",
   "mimetype": "text/x-python",
   "name": "python",
   "nbconvert_exporter": "python",
   "pygments_lexer": "ipython3",
   "version": "3.8.0"
  },
  "colab": {
   "name": "5.0-ab-sonogram-model.ipynb",
   "provenance": []
  },
  "accelerator": "GPU"
 },
 "cells": [
  {
   "cell_type": "code",
   "metadata": {
    "colab": {
     "base_uri": "https://localhost:8080/"
    },
    "id": "PNQZ_Uia0Sju",
    "outputId": "23bffbbe-4b1f-43fc-8a92-59f971fabe3d"
   },
   "source": [
    "from IPython import get_ipython\n",
    "\n",
    "IS_COLAB = False\n",
    "if \"google.colab\" in str(get_ipython()):\n",
    "    # Make sure to go to Runtime > Change runtime type > Hardware Accelerator: GPU\n",
    "    IS_COLAB = True\n",
    "    !pip install fastai --upgrade -q\n",
    "    !pip install wandb\n",
    "    !pip freeze | grep fast"
   ],
   "execution_count": 1,
   "outputs": [
    {
     "output_type": "stream",
     "text": [
      "\u001b[K     |████████████████████████████████| 204kB 22.6MB/s \n",
      "\u001b[K     |████████████████████████████████| 61kB 6.2MB/s \n",
      "\u001b[?25hCollecting wandb\n",
      "\u001b[?25l  Downloading https://files.pythonhosted.org/packages/98/5f/45439b4767334b868e1c8c35b1b0ba3747d8c21be77b79f09eed7aa3c72b/wandb-0.10.30-py2.py3-none-any.whl (1.8MB)\n",
      "\u001b[K     |████████████████████████████████| 1.8MB 31.5MB/s \n",
      "\u001b[?25hRequirement already satisfied: promise<3,>=2.0 in /usr/local/lib/python3.7/dist-packages (from wandb) (2.3)\n",
      "Collecting configparser>=3.8.1\n",
      "  Downloading https://files.pythonhosted.org/packages/fd/01/ff260a18caaf4457eb028c96eeb405c4a230ca06c8ec9c1379f813caa52e/configparser-5.0.2-py3-none-any.whl\n",
      "Collecting pathtools\n",
      "  Downloading https://files.pythonhosted.org/packages/e7/7f/470d6fcdf23f9f3518f6b0b76be9df16dcc8630ad409947f8be2eb0ed13a/pathtools-0.1.2.tar.gz\n",
      "Collecting GitPython>=1.0.0\n",
      "\u001b[?25l  Downloading https://files.pythonhosted.org/packages/27/da/6f6224fdfc47dab57881fe20c0d1bc3122be290198ba0bf26a953a045d92/GitPython-3.1.17-py3-none-any.whl (166kB)\n",
      "\u001b[K     |████████████████████████████████| 174kB 47.7MB/s \n",
      "\u001b[?25hRequirement already satisfied: six>=1.13.0 in /usr/local/lib/python3.7/dist-packages (from wandb) (1.15.0)\n",
      "Collecting subprocess32>=3.5.3\n",
      "\u001b[?25l  Downloading https://files.pythonhosted.org/packages/32/c8/564be4d12629b912ea431f1a50eb8b3b9d00f1a0b1ceff17f266be190007/subprocess32-3.5.4.tar.gz (97kB)\n",
      "\u001b[K     |████████████████████████████████| 102kB 13.5MB/s \n",
      "\u001b[?25hRequirement already satisfied: PyYAML in /usr/local/lib/python3.7/dist-packages (from wandb) (3.13)\n",
      "Requirement already satisfied: python-dateutil>=2.6.1 in /usr/local/lib/python3.7/dist-packages (from wandb) (2.8.1)\n",
      "Requirement already satisfied: protobuf>=3.12.0 in /usr/local/lib/python3.7/dist-packages (from wandb) (3.12.4)\n",
      "Collecting shortuuid>=0.5.0\n",
      "  Downloading https://files.pythonhosted.org/packages/25/a6/2ecc1daa6a304e7f1b216f0896b26156b78e7c38e1211e9b798b4716c53d/shortuuid-1.0.1-py3-none-any.whl\n",
      "Requirement already satisfied: Click>=7.0 in /usr/local/lib/python3.7/dist-packages (from wandb) (8.0.0)\n",
      "Collecting docker-pycreds>=0.4.0\n",
      "  Downloading https://files.pythonhosted.org/packages/f5/e8/f6bd1eee09314e7e6dee49cbe2c5e22314ccdb38db16c9fc72d2fa80d054/docker_pycreds-0.4.0-py2.py3-none-any.whl\n",
      "Requirement already satisfied: requests<3,>=2.0.0 in /usr/local/lib/python3.7/dist-packages (from wandb) (2.23.0)\n",
      "Collecting sentry-sdk>=0.4.0\n",
      "\u001b[?25l  Downloading https://files.pythonhosted.org/packages/1c/4a/a54b254f67d8f4052338d54ebe90126f200693440a93ef76d254d581e3ec/sentry_sdk-1.1.0-py2.py3-none-any.whl (131kB)\n",
      "\u001b[K     |████████████████████████████████| 133kB 50.9MB/s \n",
      "\u001b[?25hRequirement already satisfied: psutil>=5.0.0 in /usr/local/lib/python3.7/dist-packages (from wandb) (5.4.8)\n",
      "Requirement already satisfied: typing-extensions>=3.7.4.0; python_version < \"3.8\" in /usr/local/lib/python3.7/dist-packages (from GitPython>=1.0.0->wandb) (3.7.4.3)\n",
      "Collecting gitdb<5,>=4.0.1\n",
      "\u001b[?25l  Downloading https://files.pythonhosted.org/packages/ea/e8/f414d1a4f0bbc668ed441f74f44c116d9816833a48bf81d22b697090dba8/gitdb-4.0.7-py3-none-any.whl (63kB)\n",
      "\u001b[K     |████████████████████████████████| 71kB 9.7MB/s \n",
      "\u001b[?25hRequirement already satisfied: setuptools in /usr/local/lib/python3.7/dist-packages (from protobuf>=3.12.0->wandb) (56.1.0)\n",
      "Requirement already satisfied: urllib3!=1.25.0,!=1.25.1,<1.26,>=1.21.1 in /usr/local/lib/python3.7/dist-packages (from requests<3,>=2.0.0->wandb) (1.24.3)\n",
      "Requirement already satisfied: chardet<4,>=3.0.2 in /usr/local/lib/python3.7/dist-packages (from requests<3,>=2.0.0->wandb) (3.0.4)\n",
      "Requirement already satisfied: certifi>=2017.4.17 in /usr/local/lib/python3.7/dist-packages (from requests<3,>=2.0.0->wandb) (2020.12.5)\n",
      "Requirement already satisfied: idna<3,>=2.5 in /usr/local/lib/python3.7/dist-packages (from requests<3,>=2.0.0->wandb) (2.10)\n",
      "Collecting smmap<5,>=3.0.1\n",
      "  Downloading https://files.pythonhosted.org/packages/68/ee/d540eb5e5996eb81c26ceffac6ee49041d473bc5125f2aa995cf51ec1cf1/smmap-4.0.0-py2.py3-none-any.whl\n",
      "Building wheels for collected packages: pathtools, subprocess32\n",
      "  Building wheel for pathtools (setup.py) ... \u001b[?25l\u001b[?25hdone\n",
      "  Created wheel for pathtools: filename=pathtools-0.1.2-cp37-none-any.whl size=8786 sha256=8d84ccc4cdeb1f0024b78677f377e50a8c7b500e97209353e529ce52f3d2eab7\n",
      "  Stored in directory: /root/.cache/pip/wheels/0b/04/79/c3b0c3a0266a3cb4376da31e5bfe8bba0c489246968a68e843\n",
      "  Building wheel for subprocess32 (setup.py) ... \u001b[?25l\u001b[?25hdone\n",
      "  Created wheel for subprocess32: filename=subprocess32-3.5.4-cp37-none-any.whl size=6489 sha256=be945fdbaabdf9cf545894970495f84ed1c483081be37984a999ed81c1201d79\n",
      "  Stored in directory: /root/.cache/pip/wheels/68/39/1a/5e402bdfdf004af1786c8b853fd92f8c4a04f22aad179654d1\n",
      "Successfully built pathtools subprocess32\n",
      "Installing collected packages: configparser, pathtools, smmap, gitdb, GitPython, subprocess32, shortuuid, docker-pycreds, sentry-sdk, wandb\n",
      "Successfully installed GitPython-3.1.17 configparser-5.0.2 docker-pycreds-0.4.0 gitdb-4.0.7 pathtools-0.1.2 sentry-sdk-1.1.0 shortuuid-1.0.1 smmap-4.0.0 subprocess32-3.5.4 wandb-0.10.30\n",
      "fastai==2.3.1\n",
      "fastcore==1.3.20\n",
      "fastdtw==0.3.4\n",
      "fastprogress==1.0.0\n",
      "fastrlock==0.6\n"
     ],
     "name": "stdout"
    }
   ]
  },
  {
   "cell_type": "code",
   "metadata": {
    "pycharm": {
     "name": "#%%\n"
    },
    "colab": {
     "base_uri": "https://localhost:8080/"
    },
    "id": "bSQyglZ20Sj3",
    "outputId": "d4e81296-cf2d-4e8c-d3b3-a4041f81ae4c"
   },
   "source": [
    "if IS_COLAB:\n",
    "    from google.colab import drive\n",
    "\n",
    "    drive.mount(\"/gdrive\")\n",
    "    %ls /gdrive/MyDrive/"
   ],
   "execution_count": 2,
   "outputs": [
    {
     "output_type": "stream",
     "text": [
      "Mounted at /gdrive\n",
      "\u001b[0m\u001b[01;34m10605\u001b[0m/  \u001b[01;34m17731\u001b[0m/                       \u001b[01;34mjane-street-kaggle\u001b[0m/\n",
      "\u001b[01;34m15688\u001b[0m/  2AxisFaults.gdraw            OLD-5.0-ab-sonogram-model.ipynb\n",
      "\u001b[01;34m16440\u001b[0m/  5.0-ab-sonogram-model.ipynb  \u001b[01;34mpracds_final\u001b[0m/\n",
      "\u001b[01;34m17637\u001b[0m/  \u001b[01;34mGradeCalculations\u001b[0m/\n"
     ],
     "name": "stdout"
    }
   ]
  },
  {
   "cell_type": "code",
   "metadata": {
    "pycharm": {
     "name": "#%%\n"
    },
    "colab": {
     "base_uri": "https://localhost:8080/"
    },
    "id": "AXjQHIbq0Sj4",
    "outputId": "14b6c811-3763-45ce-88c3-7f537a22786c"
   },
   "source": [
    "import json\n",
    "from pathlib import Path\n",
    "\n",
    "import pandas as pd\n",
    "import wandb\n",
    "from fastai.callback.wandb import WandbCallback\n",
    "from fastai.learner import load_model, save_model\n",
    "from fastai.metrics import accuracy\n",
    "from fastai.vision.all import cnn_learner\n",
    "from fastai.vision.data import ImageDataLoaders\n",
    "from fastai.vision.models import xresnet\n",
    "\n",
    "ROOT_PATH = Path(\"..\")\n",
    "TRAIN = True\n",
    "if IS_COLAB:\n",
    "    import torch\n",
    "\n",
    "    # Make sure that this path exists\n",
    "    ROOT_PATH = Path(\"/gdrive/MyDrive/pracds_final\")\n",
    "    print(torch.cuda.get_device_name(0))\n",
    "\n",
    "!wandb login"
   ],
   "execution_count": 17,
   "outputs": [
    {
     "output_type": "stream",
     "text": [
      "Tesla T4\n",
      "\u001b[34m\u001b[1mwandb\u001b[0m: Currently logged in as: \u001b[33madithyabsk\u001b[0m (use `wandb login --relogin` to force relogin)\n"
     ],
     "name": "stdout"
    }
   ]
  },
  {
   "cell_type": "code",
   "metadata": {
    "pycharm": {
     "name": "#%%\n"
    },
    "id": "IlhED3iw0Sj5"
   },
   "source": [
    "# Setup y_train, y_test\n",
    "df = pd.read_csv(ROOT_PATH / \"data/raw/metadata.csv\")\n",
    "svc_ids = pd.read_json(ROOT_PATH / \"data/raw/song_vs_call.json\").squeeze()\n",
    "svc_df = df.loc[df.id.isin(svc_ids)].copy()\n",
    "\n",
    "with open(ROOT_PATH / \"data/processed/svc_split.json\") as svc_split_file:\n",
    "    svc_split = json.load(svc_split_file)\n",
    "    train_ids = svc_split[\"train_ids\"]\n",
    "    test_ids = svc_split[\"test_ids\"]\n",
    "\n",
    "# Add response variable\n",
    "type_col = svc_df.type.str.lower().str.replace(\" \", \"\").str.split(\",\")\n",
    "filtered_type_col = type_col.apply(lambda l: set(l) - {\"call\", \"song\"})\n",
    "svc_df[\"label\"] = type_col.apply(lambda l: \"call\" in l).astype(int)\n",
    "\n",
    "y_df = svc_df.reindex(columns=[\"id\", \"pred\"]).copy()\n",
    "y_train, y_test = (\n",
    "    y_df[y_df.id.isin(train_ids)].drop(columns=[\"id\"]).squeeze(),\n",
    "    y_df[y_df.id.isin(test_ids)].drop(columns=[\"id\"]).squeeze(),\n",
    ")"
   ],
   "execution_count": 4,
   "outputs": []
  },
  {
   "cell_type": "code",
   "metadata": {
    "pycharm": {
     "name": "#%%\n"
    },
    "id": "k05TZnp_0Sj5"
   },
   "source": [
    "svc_df[\"name\"] = svc_df.id.astype(str) + \".png\"\n",
    "svc_df[\"is_valid\"] = svc_df.id.isin(test_ids)\n",
    "image_df = (\n",
    "    svc_df.reindex(columns=[\"id\", \"name\", \"label\", \"is_valid\"]).set_index(\"id\").copy()\n",
    ")"
   ],
   "execution_count": 5,
   "outputs": []
  },
  {
   "cell_type": "code",
   "metadata": {
    "pycharm": {
     "name": "#%%\n"
    },
    "id": "nHdOR_Px0Sj6"
   },
   "source": [
    "bs = 128  # Batch size\n",
    "kwargs = {}\n",
    "if IS_COLAB:\n",
    "    kwargs[\"num_workers\"] = 0\n",
    "data = (\n",
    "    # convert_mode is passed on intern|ally to the relevant function that will handle converting the images;\n",
    "    # 'L' results in one color channel\n",
    "    ImageDataLoaders.from_df(\n",
    "        image_df,\n",
    "        folder=ROOT_PATH / \"data/raw/sonograms\",\n",
    "        valid_col=\"is_valid\",\n",
    "        bs=bs,\n",
    "        # num_works needs to be set to 0 for local evaluation to turn off multiprocessing\n",
    "        **kwargs,\n",
    "    )\n",
    ")\n",
    "learn = cnn_learner(data, xresnet.xresnet18, pretrained=True)"
   ],
   "execution_count": 7,
   "outputs": []
  },
  {
   "cell_type": "code",
   "metadata": {
    "colab": {
     "base_uri": "https://localhost:8080/",
     "height": 284
    },
    "id": "Pg2-E99Q0Sj6",
    "outputId": "debca4f4-9986-4fd0-ba02-e79143b87f86"
   },
   "source": [
    "# Make sure this path exists on colab\n",
    "fname = \"sono_model.pth\"\n",
    "model_path = (ROOT_PATH / f\"models/{fname}\").resolve().absolute()\n",
    "if IS_COLAB and TRAIN:\n",
    "    # Fine tune model\n",
    "    wandb.init(project=\"sono-model\")\n",
    "    learn.fit_one_cycle(1, cbs=WandbCallback())\n",
    "    # GDrive fails when you try to use mkdir\n",
    "    # so we manually call `save_model`\n",
    "    save_path = f\"/home/{fname}\"\n",
    "    save_model(save_path, learn.model, getattr(learn, \"opt\", None))\n",
    "    %ls -al /home\n",
    "    from google.colab import files\n",
    "\n",
    "    files.download(save_path)\n",
    "else:\n",
    "    load_model(model_path, learn.model, learn.opt)"
   ],
   "execution_count": 8,
   "outputs": [
    {
     "output_type": "stream",
     "text": [
      "\u001b[34m\u001b[1mwandb\u001b[0m: Currently logged in as: \u001b[33madithyabsk\u001b[0m (use `wandb login --relogin` to force relogin)\n"
     ],
     "name": "stderr"
    },
    {
     "output_type": "display_data",
     "data": {
      "text/html": [
       "\n",
       "                Tracking run with wandb version 0.10.30<br/>\n",
       "                Syncing run <strong style=\"color:#cdcd00\">atomic-butterfly-6</strong> to <a href=\"https://wandb.ai\" target=\"_blank\">Weights & Biases</a> <a href=\"https://docs.wandb.com/integrations/jupyter.html\" target=\"_blank\">(Documentation)</a>.<br/>\n",
       "                Project page: <a href=\"https://wandb.ai/adithyabsk/sono-model\" target=\"_blank\">https://wandb.ai/adithyabsk/sono-model</a><br/>\n",
       "                Run page: <a href=\"https://wandb.ai/adithyabsk/sono-model/runs/bmr3wrkq\" target=\"_blank\">https://wandb.ai/adithyabsk/sono-model/runs/bmr3wrkq</a><br/>\n",
       "                Run data is saved locally in <code>/content/wandb/run-20210518_020905-bmr3wrkq</code><br/><br/>\n",
       "            "
      ],
      "text/plain": [
       "<IPython.core.display.HTML object>"
      ]
     },
     "metadata": {
      "tags": []
     }
    },
    {
     "output_type": "stream",
     "text": [
      "WandbCallback requires use of \"SaveModelCallback\" to log best model\n"
     ],
     "name": "stdout"
    },
    {
     "output_type": "display_data",
     "data": {
      "text/html": [
       "<table border=\"1\" class=\"dataframe\">\n",
       "  <thead>\n",
       "    <tr style=\"text-align: left;\">\n",
       "      <th>epoch</th>\n",
       "      <th>train_loss</th>\n",
       "      <th>valid_loss</th>\n",
       "      <th>time</th>\n",
       "    </tr>\n",
       "  </thead>\n",
       "  <tbody>\n",
       "    <tr>\n",
       "      <td>0</td>\n",
       "      <td>1.007792</td>\n",
       "      <td>0.674670</td>\n",
       "      <td>18:15</td>\n",
       "    </tr>\n",
       "  </tbody>\n",
       "</table>"
      ],
      "text/plain": [
       "<IPython.core.display.HTML object>"
      ]
     },
     "metadata": {
      "tags": []
     }
    },
    {
     "output_type": "stream",
     "text": [
      "total 50144\n",
      "drwxr-xr-x 1 root root     4096 May 18 02:27 \u001b[0m\u001b[01;34m.\u001b[0m/\n",
      "drwxr-xr-x 1 root root     4096 May 18 02:07 \u001b[01;34m..\u001b[0m/\n",
      "-rw-r--r-- 1 root root 51338051 May 18 02:27 sono_model.pth\n"
     ],
     "name": "stdout"
    },
    {
     "output_type": "display_data",
     "data": {
      "application/javascript": [
       "\n",
       "    async function download(id, filename, size) {\n",
       "      if (!google.colab.kernel.accessAllowed) {\n",
       "        return;\n",
       "      }\n",
       "      const div = document.createElement('div');\n",
       "      const label = document.createElement('label');\n",
       "      label.textContent = `Downloading \"${filename}\": `;\n",
       "      div.appendChild(label);\n",
       "      const progress = document.createElement('progress');\n",
       "      progress.max = size;\n",
       "      div.appendChild(progress);\n",
       "      document.body.appendChild(div);\n",
       "\n",
       "      const buffers = [];\n",
       "      let downloaded = 0;\n",
       "\n",
       "      const channel = await google.colab.kernel.comms.open(id);\n",
       "      // Send a message to notify the kernel that we're ready.\n",
       "      channel.send({})\n",
       "\n",
       "      for await (const message of channel.messages) {\n",
       "        // Send a message to notify the kernel that we're ready.\n",
       "        channel.send({})\n",
       "        if (message.buffers) {\n",
       "          for (const buffer of message.buffers) {\n",
       "            buffers.push(buffer);\n",
       "            downloaded += buffer.byteLength;\n",
       "            progress.value = downloaded;\n",
       "          }\n",
       "        }\n",
       "      }\n",
       "      const blob = new Blob(buffers, {type: 'application/binary'});\n",
       "      const a = document.createElement('a');\n",
       "      a.href = window.URL.createObjectURL(blob);\n",
       "      a.download = filename;\n",
       "      div.appendChild(a);\n",
       "      a.click();\n",
       "      div.remove();\n",
       "    }\n",
       "  "
      ],
      "text/plain": [
       "<IPython.core.display.Javascript object>"
      ]
     },
     "metadata": {
      "tags": []
     }
    },
    {
     "output_type": "display_data",
     "data": {
      "application/javascript": [
       "download(\"download_562b4504-fae0-431e-9304-776f296b2f3f\", \"sono_model.pth\", 51338051)"
      ],
      "text/plain": [
       "<IPython.core.display.Javascript object>"
      ]
     },
     "metadata": {
      "tags": []
     }
    }
   ]
  },
  {
   "cell_type": "code",
   "metadata": {
    "id": "BosDpFkeW-TM"
   },
   "source": [
    "learn.metrics = [accuracy]"
   ],
   "execution_count": 18,
   "outputs": []
  },
  {
   "cell_type": "code",
   "metadata": {
    "colab": {
     "base_uri": "https://localhost:8080/",
     "height": 51
    },
    "id": "kYpsuQljXvIp",
    "outputId": "ab69deb3-8fa8-41b7-9c1f-df919ea7614b"
   },
   "source": [
    "train_metrics = learn.validate(ds_idx=0)\n",
    "print(f\"Train Loss: {train_metrics[0]:.4f}\")\n",
    "print(f\"Train Accuracy: {train_metrics[1]:.4f}\")"
   ],
   "execution_count": 26,
   "outputs": [
    {
     "output_type": "display_data",
     "data": {
      "text/html": [
       ""
      ],
      "text/plain": [
       "<IPython.core.display.HTML object>"
      ]
     },
     "metadata": {
      "tags": []
     }
    },
    {
     "output_type": "stream",
     "text": [
      "Train Loss: 0.6611\n",
      "Train Accuracy: 0.6818\n"
     ],
     "name": "stdout"
    }
   ]
  },
  {
   "cell_type": "code",
   "metadata": {
    "pycharm": {
     "name": "#%%\n"
    },
    "colab": {
     "base_uri": "https://localhost:8080/",
     "height": 51
    },
    "id": "bH39n4Gv0Sj7",
    "outputId": "17b9b2d7-d649-4c6a-c55a-6695b3243ff7"
   },
   "source": [
    "val_metrics = learn.validate()\n",
    "print(f\"Validation Loss: {val_metrics[0]:.4f}\")\n",
    "print(f\"Validation Accuracy: {val_metrics[1]:.4f}\")\n",
    "# learn.predict(ROOT_PATH / \"data/raw/sonograms/1136.png\")"
   ],
   "execution_count": 21,
   "outputs": [
    {
     "output_type": "display_data",
     "data": {
      "text/html": [
       ""
      ],
      "text/plain": [
       "<IPython.core.display.HTML object>"
      ]
     },
     "metadata": {
      "tags": []
     }
    },
    {
     "output_type": "stream",
     "text": [
      "Validation Loss: 0.6747\n",
      "Validation Accuracy: 0.6821\n"
     ],
     "name": "stdout"
    }
   ]
  }
 ]
}
