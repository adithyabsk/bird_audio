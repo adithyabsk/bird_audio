{
 "cells": [
  {
   "cell_type": "code",
   "metadata": {
    "tags": [],
    "cell_id": "00000-2d0db56b-f50a-4ff1-86f2-a2148d985ede",
    "deepnote_to_be_reexecuted": false,
    "source_hash": "8ad57f32",
    "execution_start": 1620504813657,
    "execution_millis": 1,
    "deepnote_cell_type": "code"
   },
   "source": "# Start writing code here...",
   "execution_count": 1,
   "outputs": []
  },
  {
   "cell_type": "markdown",
   "source": "# Introduction\nIn this project, we analyze audio samples of bird calls, along with metadata labels of location and type of call. We focus on a single species, with the hopes of reducing the wide range of factors producing variability in ecological soundscapes - so we are only exploring intraspecific variations in bird calls. The targeted questions we are hoping to answer are:\n\n- Can we classify gender from bird call audio?\n- Can we distinguish birds from different region (same region or different region)?\n- Can we classify types of bird calls (e.g. song, call, flight call) from bird call audio?\n\nOne motivation for this project is practical and concrete, to make it faster and easier for scientists to collect data on bird populations, verify community-sourced labels, etc.\n\nThe other motivation is more open-ended: one of curiosity and self-education that we hope will build towards better understanding the impacts of the \"anthropony\" (sounds produced by humans). As novice bird-listeners ourselves, we are amazed by the variability and information \"encoded\" in bird calls. Bird calls reveal regional dialects, a sense of humor, individual voices - and they are inevitably threatened by human activity. To our untrained ears, it's difficult to even distinguish calls from different species, let alone genders or pitch-shifts in reaction to noise pollution. Through the process visualizing and analyzing features of bird call audio, we hope we can build better understanding of bird calls and become better listeners.\n\nIn the next section, we will look at some of the previous work on intraspecies variation in bird calls.",
   "metadata": {
    "tags": [],
    "cell_id": "00001-bb8420c6-c1fe-4532-aa2c-b93684e8d62d",
    "deepnote_cell_type": "markdown"
   }
  },
  {
   "cell_type": "markdown",
   "source": "# Related work on intraspecific variation in bird calls\n## Gender identification using acoustic analysis in birds without external sexual dimorphism [[Link]] (https://avianres.biomedcentral.com/articles/10.1186/s40657-015-0033-y)\n> Volodin, I.A., Volodina, E.V., Klenova, A.V. et al. Gender identification using acoustic analysis in birds without external sexual dimorphism. Avian Res 6, 20 (2015). https://doi.org/10.1186/s40657-015-0033-y\n\n### Useful Terms\n**Call** : Bird vocalization\n\n**Song** : Courtship or territorial vocalization, typically from male songbirds in characteristic phrases\n\n**Note** : Smallest unit of vocalization, an uninterrupted trace on the spectrogram\n\n**Syllable** : Combination of notes that are separated by short intervals; syllables are separated by longer intervals\n\n**Rhythmic structure** : The way notes, syllables, or calls repeat (count and rate of repetition)\n\n**Fundamental frequency** : The call pitch, visible on a spectrogram usually as the lowest band in a stack of integer-multiple bands (harmonics)\n\n**Harmonics** : Integer multiple frequency bands upon the fundamental frequency band.\n\n**Frequency modulation** : Changes in fundamental frequency contour during a call\n\n**Tonal call** : Call, containing the fundamental frequency and its related harmonics.\n\n**Noisy call** : Call where the fundamental frequency and harmonics are indistinguishable or lacking from the inside. Looks like uniform noise on the spectrogram.\n\n**Dominant frequency** : The frequency where the maximum energy of a call is concentrated.\n\n### Background\n- Determining the sex of adult birds using their calls is useful for monomorphic birds (no difference in appearance across sexes), is noninvasive, and may be done at a distance\n- It is important to sex birds for wildlife management - breeding and census estimates\n- Bird calls likely differ across sexes due to differences in morphology (e.g. size of beak, vocal organ, trachea), the method of producing a call, or in the type of calls/songs\n\n### Contribution\n- Researchers used spectrograms and power spectra\n![spectrograms](https://media.springernature.com/lw685/springer-static/image/art%3A10.1186%2Fs40657-015-0033-y/MediaObjects/40657_2015_33_Fig1_HTML.gif?as=webp)\n- They used simple visual inspection (without measuring acoustic variables) for certain species, or using Discriminate Function Analysis when acoustic variables overlapped more across sexes.\n    - DFA accuracy > 70% was considered sufficient but low reliability for sexing by call (50% would be equivalent to random chance)\n    - 91 - 100% : perfect reliability\n- Relevant vocal features for differentiating sex were:\n    - Average fundamental frequency\n    - Maximum fundamental frequency\n    - Biphonation (2 independent fundamental frequencies)\n    - Duration of notes\n    - Number of syllables in call\n    - Amplitude modulation (wideband spectra)\n    - Intervals between syallables\n\n## Further Reading\n- [2009 Classifying Bird Calls with Supervised Learning](https://eecs.oregonstate.edu/research/bioacoustics/briggs_icdm09.pdf) - useful background on audio features\n- [How Birds Develop Song Dialects](https://sora.unm.edu/sites/default/files/journals/condor/v077n04/p0385-p0406.pdf) - regional dialects in birdsong\n- [Do bird calls of the same species differ across countries?](https://www.researchgate.net/post/Does-bird-calls-of-same-species-from-one-country-differ-from-the-calls-from-other-country) - Researchgate forum, some more links here\n\n## Regional dialects have been discovered among many bird species and the Yellowhammer is a great example [[Link]](https://bou.org.uk/yellowhammer-dialects/)\n\nBirds have been observed to have regional dialects, as a result of ecological drivers, [human disturbances](https://academic.oup.com/beheco/article/30/6/1501/5526711?login=true), and cultural evolution.\n\nA famous citizen science project took place in the Czech Republic starting in 2011 to study dialects of Yellowhammer birds (easily recognized). It revealed two main dialect groups and the border between, and brought up more questions like: How are the dialects maintained? What causes the dialect boundaries between neighboring habitats? How do dialects evolve?\n![yellowhammer dialects](https://bou.org.uk/wp-content/uploads/2013/05/Pipek-fig2-530x296.png)",
   "metadata": {
    "tags": [],
    "cell_id": "00002-0e69944b-7b03-4fc1-afaf-fb18c9b9839b",
    "deepnote_cell_type": "markdown"
   }
  },
  {
   "cell_type": "markdown",
   "source": "# Collecting Data\nFor our analysis, we will use audio files and metadata from xeno-canto.org. Xeno-canto (XC) is a website for collecting and sharing audio recordings of birds. \n\n## How does XC maintain data?\nRecordings and identifications are sourced from the community (anyone can join), as are recording quality ratings and flags for wrong IDs.\n### Audio quality\nRecordings are rated by community members according to this criteria:\n- A: Loud and Clear\n- B: Clear, but bird a bit distant, or some interference with other sound sources\n- C: Moderately clear, or quite some interference\n- D: Faint recording, or much interference\n- E: Barely audible\n\n### Identification Accuracy\nRecording IDs are submitted by users, and can be flagged as wrong by other community members. When an ID is flagged as wrong, it's removed from search results and the discussion is posted to the site forum and on the recording page.\n\n## How do we get XC data?\nXC has a [very simple API](https://www.xeno-canto.org/explore/api) that allows us to make RESTful queries, without even requiring an API key. A request url looks like this: `https://www.xeno-canto.org/api/2/recordings?query=bearded+bellbird+q:A&page=5`.\n\nWe can also test our request by going to `https://www.xeno-canto.org/explore?query=[our-query-here]`.\n\n### Query parameter\nA result is returned if the `Common name`, `Scientific name`, or `Scientific name of family` fields contain the query.\n\nWe can also combine tags to do advanced searches, using a `+` between each, for example:\n- `cnt:\"United States\"` to get recordings from the US (quotes for multi-word countries)\n- `loc:pennsylvania` to get recordings from PA\n- `type:=female` to get bird calls ID'd as female (`=` forces a match)\n- `len:10-15` to get recordings that are 10-15 seconds long\n- `len_lt:120` to get recordings that are less than 2 minutes long\n- `q_gt:C` for recordings greater than quality C\n\n### Page parameter\nThe page parameter is only needed if the results don't fit on one page.",
   "metadata": {
    "tags": [],
    "cell_id": "00001-2e28dd94-127d-483c-9d7d-dc9b6fe29aaf",
    "deepnote_cell_type": "markdown"
   }
  },
  {
   "cell_type": "code",
   "metadata": {
    "tags": [],
    "cell_id": "00004-0acf7005-075e-47c0-ba61-a35fef3373a8",
    "deepnote_to_be_reexecuted": false,
    "source_hash": "e5cd0869",
    "execution_start": 1620504813659,
    "execution_millis": 0,
    "deepnote_cell_type": "code"
   },
   "source": "# make an example query here",
   "execution_count": 2,
   "outputs": []
  },
  {
   "cell_type": "markdown",
   "source": "## What does XC data look like?\nWe can see the JSON payload in the response includes a few self-explanatory fields, including an array of recording objects.\n```\n{\n    \"numRecordings\": [the number of recordings found from the query],\n    \"numSpecies\": [the number of species found from the query],\n    \"page\": [current page number of results],\n    \"numPages\": [total number of pages available],\n    \"recordings\": [\n        ...,\n        Array of Recording objects\n        ...\n    ]\n}\n```\nThe recording objects likewise include a bunch of fields, nearly identical to the query parameters we could use to search the database. The fields we care most about are:\n- **type** : a comma-separated list of the sound types of the recording (e.g. call, song, male, female)\n- **file** : the url to the audio file\n- **sono** : a dict with the urls to 4 sizes of sonograms (we want \"full\")\n- **loc** : the location of the recording\n- **lat** & **lng** : the latitude and longitude of the recording",
   "metadata": {
    "tags": [],
    "cell_id": "00004-87da6202-6d21-4468-8e21-0001881a8e88",
    "deepnote_cell_type": "markdown"
   }
  },
  {
   "cell_type": "code",
   "source": "from nbformat import read\n\n# Default path for this notebook (can be run inside the notebook)\npath = \"/work/pracds_final/notebooks/0.0-mk-final-report.ipynb\"\nwith open(path, 'r', encoding='utf-8') as f:\n    nb = read(f, 4)\n\n# Count the number of lines in markdown or heading cells\nword_count = sum([\n    len(cell['source'].replace('#', '').lstrip().split(' '))\n    for cell in nb[\"cells\"]\n    if cell.cell_type in [\"markdown\", \"heading\"]\n])\n\n# Count number of lines in the notebook and subtract the number of\n# lines in this cell\nline_count = sum([\n    # Filter out cells that are comments or are empty\n    len(list(filter(\n        lambda line: not (line.lstrip().startswith(\"#\")),\n        cell['source'].split(\"\\n\")\n    )))\n    for cell in nb[\"cells\"]\n    if cell.cell_type == \"code\"\n]) - 27\n\nprint(f\"Word Count: {word_count:,}\")\nprint(f\"Line Count: {line_count:,}\")",
   "metadata": {
    "tags": [],
    "cell_id": "00006-9e03cc75-5c5b-4394-8935-77ab257fa849",
    "deepnote_to_be_reexecuted": false,
    "source_hash": "c400395a",
    "execution_start": 1620504813660,
    "execution_millis": 109,
    "deepnote_cell_type": "code"
   },
   "outputs": [
    {
     "name": "stdout",
     "text": "Word Count: 1,267\nLine Count: -4\n",
     "output_type": "stream"
    }
   ],
   "execution_count": 3
  },
  {
   "cell_type": "markdown",
   "source": "<a style='text-decoration:none;line-height:16px;display:flex;color:#5B5B62;padding:10px;justify-content:end;' href='https://deepnote.com?utm_source=created-in-deepnote-cell&projectId=6b2ae77c-22c0-4e92-b8f6-ab962db6bbab' target=\"_blank\">\n<img alt='Created in deepnote.com' style='display:inline;max-height:16px;margin:0px;margin-right:7.5px;' src='data:image/svg+xml;base64,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' > </img>\nCreated in <span style='font-weight:600;margin-left:4px;'>Deepnote</span></a>",
   "metadata": {
    "tags": [],
    "created_in_deepnote_cell": true,
    "deepnote_cell_type": "markdown"
   }
  }
 ],
 "nbformat": 4,
 "nbformat_minor": 2,
 "metadata": {
  "orig_nbformat": 2,
  "deepnote": {
   "is_reactive": false
  },
  "deepnote_notebook_id": "bf38dd1c-03b4-4794-8429-f8b5a06d2638",
  "deepnote_execution_queue": []
 }
}