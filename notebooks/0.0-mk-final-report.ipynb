{
 "cells": [
  {
   "cell_type": "markdown",
   "metadata": {
    "cell_id": "00000-2d0db56b-f50a-4ff1-86f2-a2148d985ede",
    "deepnote_cell_type": "code",
    "deepnote_to_be_reexecuted": false,
    "execution_millis": 1,
    "execution_start": 1620504813657,
    "source_hash": "8ad57f32",
    "tags": []
   },
   "source": []
  },
  {
   "cell_type": "markdown",
   "metadata": {
    "cell_id": "00001-bb8420c6-c1fe-4532-aa2c-b93684e8d62d",
    "deepnote_cell_type": "markdown",
    "tags": []
   },
   "source": [
    "# Introduction\n",
    "\n",
    "## Goal\n",
    "In this project, we analyze audio recordings of birds, along with metadata labels of location and type of bird sound. We focus on a single species, with the hopes of reducing the wide range of factors producing variability in ecological soundscapes - so we are only exploring intraspecific variations in bird calls. The targeted questions we are hoping to answer are:\n",
    "\n",
    "- Can we classify gender from bird call audio?\n",
    "- Can we distinguish birds from different region (same region or different region)?\n",
    "- Can we classify types of bird calls (e.g. song, call, flight call) from bird call audio?\n",
    "\n",
    "## Why is this interesting?\n",
    "One motivation for this project is practical and concrete, to make it faster and easier for scientists to collect data on bird populations, verify community-sourced labels, etc.\n",
    "\n",
    "The other motivation is more open-ended: one of curiosity and self-education that we hope will build towards better understanding the impacts of the \"anthropony\" (sounds produced by humans). As novice bird-listeners ourselves, we are amazed by the variability and information \"encoded\" in bird calls. Bird calls reveal regional dialects, a sense of humor, individual voices - and they are inevitably threatened by human activity. To our untrained ears, it's difficult to even distinguish calls from different species, let alone genders or pitch-shifts in reaction to noise pollution. Through the process visualizing and analyzing features of bird call audio, we hope we can build better understanding of bird calls and become better listeners."
   ]
  },
  {
   "cell_type": "markdown",
   "metadata": {
    "cell_id": "00002-0e69944b-7b03-4fc1-afaf-fb18c9b9839b",
    "deepnote_cell_type": "markdown",
    "tags": []
   },
   "source": [
    "# Related Work on Bird Sound Data\n",
    "## Gender identification using acoustic analysis in birds without external sexual dimorphism [[Link]] (https://avianres.biomedcentral.com/articles/10.1186/s40657-015-0033-y)\n",
    "> Volodin, I.A., Volodina, E.V., Klenova, A.V. et al. Gender identification using acoustic analysis in birds without external sexual dimorphism. Avian Res 6, 20 (2015). https://doi.org/10.1186/s40657-015-0033-y\n",
    "\n",
    "### Useful Terms\n",
    "**Call** : Bird vocalization\n",
    "\n",
    "**Song** : Courtship or territorial vocalization, typically from male songbirds in characteristic phrases\n",
    "\n",
    "**Note** : Smallest unit of vocalization, an uninterrupted trace on the spectrogram\n",
    "\n",
    "**Syllable** : Combination of notes that are separated by short intervals; syllables are separated by longer intervals\n",
    "\n",
    "**Rhythmic structure** : The way notes, syllables, or calls repeat (count and rate of repetition)\n",
    "\n",
    "**Fundamental frequency** : The call pitch, visible on a spectrogram usually as the lowest band in a stack of integer-multiple bands (harmonics)\n",
    "\n",
    "**Harmonics** : Integer multiple frequency bands upon the fundamental frequency band.\n",
    "\n",
    "**Frequency modulation** : Changes in fundamental frequency contour during a call\n",
    "\n",
    "**Tonal call** : Call, containing the fundamental frequency and its related harmonics.\n",
    "\n",
    "**Noisy call** : Call where the fundamental frequency and harmonics are indistinguishable or lacking from the inside. Looks like uniform noise on the spectrogram.\n",
    "\n",
    "**Dominant frequency** : The frequency where the maximum energy of a call is concentrated.\n",
    "\n",
    "### Background\n",
    "- Determining the sex of adult birds using their calls is useful for monomorphic birds (no difference in appearance across sexes), is noninvasive, and may be done at a distance\n",
    "- It is important to sex birds for wildlife management - breeding and census estimates\n",
    "- Bird calls likely differ across sexes due to differences in morphology (e.g. size of beak, vocal organ, trachea), the method of producing a call, or in the type of calls/songs\n",
    "\n",
    "### Contribution\n",
    "- Researchers used spectrograms and power spectra\n",
    "![spectrograms](https://media.springernature.com/lw685/springer-static/image/art%3A10.1186%2Fs40657-015-0033-y/MediaObjects/40657_2015_33_Fig1_HTML.gif?as=webp)\n",
    "- They used simple visual inspection (without measuring acoustic variables) for certain species, or using Discriminate Function Analysis when acoustic variables overlapped more across sexes.\n",
    "    - DFA accuracy > 70% was considered sufficient but low reliability for sexing by call (50% would be equivalent to random chance)\n",
    "    - 91 - 100% : perfect reliability\n",
    "- Relevant vocal features for differentiating sex were:\n",
    "    - Average fundamental frequency\n",
    "    - Maximum fundamental frequency\n",
    "    - Biphonation (2 independent fundamental frequencies)\n",
    "    - Duration of notes\n",
    "    - Number of syllables in call\n",
    "    - Amplitude modulation (wideband spectra)\n",
    "    - Intervals between syallables\n",
    "\n",
    "## Further Reading\n",
    "- [2009 Classifying Bird Calls with Supervised Learning](https://eecs.oregonstate.edu/research/bioacoustics/briggs_icdm09.pdf) - useful background on audio features\n",
    "- [How Birds Develop Song Dialects](https://sora.unm.edu/sites/default/files/journals/condor/v077n04/p0385-p0406.pdf) - regional dialects in birdsong\n",
    "- [Do bird calls of the same species differ across countries?](https://www.researchgate.net/post/Does-bird-calls-of-same-species-from-one-country-differ-from-the-calls-from-other-country) - Researchgate forum, some more links here\n",
    "\n",
    "## Regional dialects have been discovered among many bird species and the Yellowhammer is a great example [[Link]](https://bou.org.uk/yellowhammer-dialects/)\n",
    "\n",
    "Birds have been observed to have regional dialects, as a result of ecological drivers, [human disturbances](https://academic.oup.com/beheco/article/30/6/1501/5526711?login=true), and cultural evolution.\n",
    "\n",
    "A famous citizen science project took place in the Czech Republic starting in 2011 to study dialects of Yellowhammer birds (easily recognized). It revealed two main dialect groups and the border between, and brought up more questions like: How are the dialects maintained? What causes the dialect boundaries between neighboring habitats? How do dialects evolve?\n",
    "![yellowhammer dialects](https://bou.org.uk/wp-content/uploads/2013/05/Pipek-fig2-530x296.png)"
   ]
  },
  {
   "cell_type": "markdown",
   "metadata": {
    "cell_id": "00001-2e28dd94-127d-483c-9d7d-dc9b6fe29aaf",
    "deepnote_cell_type": "markdown",
    "tags": []
   },
   "source": [
    "# Collecting Data\n",
    "For our analysis, we will use audio files and metadata from xeno-canto.org. Xeno-canto (XC) is a website for collecting and sharing audio recordings of birds. \n",
    "\n",
    "Recordings and identifications are sourced from the community (anyone can join), as are recording quality ratings and flags for wrong IDs."
   ]
  },
  {
   "cell_type": "markdown",
   "metadata": {},
   "source": [
    "## Xeno-canto API\n",
    "XC has a [very simple API](https://www.xeno-canto.org/explore/api) that allows us to make RESTful queries, without even requiring an API key. A request url looks like this: `https://www.xeno-canto.org/api/2/recordings?query=bearded+bellbird+q:A&page=5`.\n",
    "\n",
    "We can also test our request by going to `https://www.xeno-canto.org/explore?query=[our-query-here]`.\n",
    "\n",
    "### Parameters & Tags\n",
    "A result is returned if the `Common name`, `Scientific name`, or `Scientific name of family` fields contain the query.\n",
    "\n",
    "We can also combine tags to do advanced searches, using a `+` between each, for example:\n",
    "- `cnt:\"United States\"` to get recordings from the US (quotes for multi-word countries)\n",
    "- `loc:pennsylvania` to get recordings from PA\n",
    "- `type:=female` to get bird calls ID'd as female (`=` forces a match)\n",
    "- `len:10-15` to get recordings that are 10-15 seconds long\n",
    "- `len_lt:120` to get recordings that are less than 2 minutes long\n",
    "- `q_gt:C` for recordings greater than quality C\n",
    "\n",
    "The page parameter is only needed if the results don't fit on one page.\n",
    "\n",
    "### XC Request Payload\n",
    "The JSON payload in the response includes a few summary fields (total number of recordings, species, pages...), and the meat of the data: an array of recording objects. Each recording object looks like this:\n",
    "```\n",
    "{\n",
    "    \"id\": \"477551\",\n",
    "    \"gen\": \"Troglodytes\",\n",
    "    \"sp\": \"troglodytes\",\n",
    "    \"ssp\": \"troglodytes\",\n",
    "    \"en\": \"Eurasian Wren\",\n",
    "    \"rec\": \"\\u00c9tienne Leroy\",\n",
    "    \"cnt\": \"Poland\",\n",
    "    \"loc\": \"Hajn\\u00f3wka, hajnowski, podlaskie\",\n",
    "    \"lat\": \"52.6907\",\n",
    "    \"lng\": \"23.6035\",\n",
    "    \"alt\": \"160\",\n",
    "    \"type\": \"song\",\n",
    "    \"url\": \"\\/\\/www.xeno-canto.org\\/477551\",\n",
    "    \"file\": \"\\/\\/www.xeno-canto.org\\/477551\\/download\",\n",
    "    \"file-name\": \"XC477551-190503-Troglodyte mignon@Sacharewo.mp3\",\n",
    "    \"sono\": {\n",
    "        \"small\": \"\\/\\/www.xeno-canto.org\\/sounds\\/uploaded\\/ZWAQHOJFLZ\\/ffts\\/XC477551-small.png\",\n",
    "        \"med\": \"\\/\\/www.xeno-canto.org\\/sounds\\/uploaded\\/ZWAQHOJFLZ\\/ffts\\/XC477551-med.png\",\n",
    "        \"large\": \"\\/\\/www.xeno-canto.org\\/sounds\\/uploaded\\/ZWAQHOJFLZ\\/ffts\\/XC477551-large.png\",\n",
    "        \"full\": \"\\/\\/www.xeno-canto.org\\/sounds\\/uploaded\\/ZWAQHOJFLZ\\/ffts\\/XC477551-full.png\"\n",
    "    },\n",
    "    \"lic\": \"\\/\\/creativecommons.org\\/licenses\\/by-nc-sa\\/4.0\\/\",\n",
    "    \"q\": \"A\",\n",
    "    \"length\": \"1:13\",\n",
    "    \"time\": \"08:00\",\n",
    "    \"date\": \"2019-05-03\",\n",
    "    \"uploaded\": \"2019-05-29\",\n",
    "    \"also\": [\n",
    "        \"Fringilla coelebs\"\n",
    "    ],\n",
    "    \"rmk\": \"Singing seated or in flight\",\n",
    "    \"bird-seen\": \"yes\",\n",
    "    \"playback-used\": \"no\"\n",
    "}\n",
    "```\n",
    "You'll notice its fields are nearly identical to the query parameters we could use to search the database. Some fields we care about are:\n",
    "- **gen**  : genus\n",
    "- **sp**   : species\n",
    "- **type** : a comma-separated list of the sound types of the recording (e.g. call, song, male, female)\n",
    "- **file** : the url to the audio file\n",
    "- **sono** : a dict with the urls to 4 sizes of sonograms (we want \"full\")\n",
    "- **loc** : the location of the recording\n",
    "- **lat** & **lng** : the latitude and longitude of the recording"
   ]
  },
  {
   "cell_type": "markdown",
   "metadata": {},
   "source": [
    "## DVC"
   ]
  },
  {
   "cell_type": "markdown",
   "metadata": {},
   "source": [
    "# Filtering"
   ]
  },
  {
   "cell_type": "markdown",
   "metadata": {},
   "source": [
    "# Exploring & Visualizing Data"
   ]
  },
  {
   "cell_type": "markdown",
   "metadata": {},
   "source": [
    "# Metadata Classification Model"
   ]
  },
  {
   "cell_type": "markdown",
   "metadata": {},
   "source": [
    "# Audio Classification Model"
   ]
  },
  {
   "cell_type": "markdown",
   "metadata": {},
   "source": [
    "## Audio to Features\n",
    "### Timeseries data\n",
    "> A note about very long dfs\n",
    "### Feature Extraction"
   ]
  },
  {
   "cell_type": "markdown",
   "metadata": {},
   "source": [
    "## Picking Good Features"
   ]
  },
  {
   "cell_type": "markdown",
   "metadata": {},
   "source": [
    "## Model Tuning & Performance"
   ]
  },
  {
   "cell_type": "markdown",
   "metadata": {},
   "source": [
    "# Spectrogram Classification Model"
   ]
  },
  {
   "cell_type": "markdown",
   "metadata": {},
   "source": [
    "# Results\n",
    "\n",
    "- this classification could be the first level in a hierarchy of models / data analysis\n",
    "- once you know it's call vs song, you can analyze it in a more specific way"
   ]
  },
  {
   "cell_type": "code",
   "execution_count": 3,
   "metadata": {
    "cell_id": "00006-9e03cc75-5c5b-4394-8935-77ab257fa849",
    "deepnote_cell_type": "code",
    "deepnote_to_be_reexecuted": false,
    "execution_millis": 109,
    "execution_start": 1620504813660,
    "source_hash": "c400395a",
    "tags": []
   },
   "outputs": [
    {
     "name": "stdout",
     "output_type": "stream",
     "text": [
      "Word Count: 1,267\n",
      "Line Count: -4\n"
     ]
    }
   ],
   "source": [
    "from nbformat import read\n",
    "\n",
    "# Default path for this notebook (can be run inside the notebook)\n",
    "path = \"/work/pracds_final/notebooks/0.0-mk-final-report.ipynb\"\n",
    "with open(path, \"r\", encoding=\"utf-8\") as f:\n",
    "    nb = read(f, 4)\n",
    "\n",
    "# Count the number of lines in markdown or heading cells\n",
    "word_count = sum(\n",
    "    [\n",
    "        len(cell[\"source\"].replace(\"#\", \"\").lstrip().split(\" \"))\n",
    "        for cell in nb[\"cells\"]\n",
    "        if cell.cell_type in [\"markdown\", \"heading\"]\n",
    "    ]\n",
    ")\n",
    "\n",
    "# Count number of lines in the notebook and subtract the number of\n",
    "# lines in this cell\n",
    "line_count = (\n",
    "    sum(\n",
    "        [\n",
    "            # Filter out cells that are comments or are empty\n",
    "            len(\n",
    "                list(\n",
    "                    filter(\n",
    "                        lambda line: not (line.lstrip().startswith(\"#\")),\n",
    "                        cell[\"source\"].split(\"\\n\"),\n",
    "                    )\n",
    "                )\n",
    "            )\n",
    "            for cell in nb[\"cells\"]\n",
    "            if cell.cell_type == \"code\"\n",
    "        ]\n",
    "    )\n",
    "    - 27\n",
    ")\n",
    "\n",
    "print(f\"Word Count: {word_count:,}\")\n",
    "print(f\"Line Count: {line_count:,}\")"
   ]
  },
  {
   "cell_type": "markdown",
   "metadata": {
    "created_in_deepnote_cell": true,
    "deepnote_cell_type": "markdown",
    "tags": []
   },
   "source": [
    "<a style='text-decoration:none;line-height:16px;display:flex;color:#5B5B62;padding:10px;justify-content:end;' href='https://deepnote.com?utm_source=created-in-deepnote-cell&projectId=6b2ae77c-22c0-4e92-b8f6-ab962db6bbab' target=\"_blank\">\n",
    "<img alt='Created in deepnote.com' style='display:inline;max-height:16px;margin:0px;margin-right:7.5px;' src='data:image/svg+xml;base64,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' > </img>\n",
    "Created in <span style='font-weight:600;margin-left:4px;'>Deepnote</span></a>"
   ]
  }
 ],
 "metadata": {
  "deepnote": {
   "is_reactive": false
  },
  "deepnote_execution_queue": [],
  "deepnote_notebook_id": "bf38dd1c-03b4-4794-8429-f8b5a06d2638",
  "kernelspec": {
   "display_name": "Python 3",
   "language": "python",
   "name": "python3"
  },
  "language_info": {
   "codemirror_mode": {
    "name": "ipython",
    "version": 3
   },
   "file_extension": ".py",
   "mimetype": "text/x-python",
   "name": "python",
   "nbconvert_exporter": "python",
   "pygments_lexer": "ipython3",
   "version": "3.8.5"
  }
 },
 "nbformat": 4,
 "nbformat_minor": 4
}
