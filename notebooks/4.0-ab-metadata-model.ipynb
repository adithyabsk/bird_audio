{
 "cells": [
  {
   "cell_type": "code",
   "execution_count": 122,
   "metadata": {
    "collapsed": true
   },
   "outputs": [],
   "source": [
    "import json\n",
    "from pathlib import Path\n",
    "\n",
    "import matplotlib.pyplot as plt\n",
    "import numpy as np\n",
    "import pandas as pd\n",
    "import seaborn as sns\n",
    "import xgboost as xgb\n",
    "from category_encoders import OneHotEncoder\n",
    "from pandas_profiling import ProfileReport\n",
    "from sklearn.impute import SimpleImputer\n",
    "from sklearn.linear_model import LogisticRegression\n",
    "from sklearn.preprocessing import FunctionTransformer, MinMaxScaler, StandardScaler\n",
    "from sklearn_pandas import DataFrameMapper, gen_features\n",
    "\n",
    "sns.set_style(\"white\")\n",
    "\n",
    "ROOT_PATH = Path(\"..\")"
   ]
  },
  {
   "cell_type": "code",
   "execution_count": 2,
   "outputs": [],
   "source": [
    "df = pd.read_csv(ROOT_PATH / \"data/raw/metadata.csv\")\n",
    "svc_ids = pd.read_json(ROOT_PATH / \"data/raw/song_vs_call.json\").squeeze()\n",
    "svc_df = df.loc[df.id.isin(svc_ids)].copy()\n",
    "\n",
    "with open(ROOT_PATH / \"data/processed/svc_split.json\") as svc_split_file:\n",
    "    svc_split = json.load(svc_split_file)\n",
    "    train_ids = svc_split[\"train_ids\"]\n",
    "    test_ids = svc_split[\"test_ids\"]"
   ],
   "metadata": {
    "collapsed": false,
    "pycharm": {
     "name": "#%%\n"
    }
   }
  },
  {
   "cell_type": "code",
   "execution_count": 3,
   "outputs": [],
   "source": [
    "# Add response variable\n",
    "type_col = svc_df.type.str.lower().str.replace(\" \", \"\").str.split(\",\")\n",
    "filtered_type_col = type_col.apply(lambda l: set(l) - {\"call\", \"song\"})\n",
    "svc_df[\"pred\"] = type_col.apply(lambda l: \"call\" in l).astype(int)"
   ],
   "metadata": {
    "collapsed": false,
    "pycharm": {
     "name": "#%%\n"
    }
   }
  },
  {
   "cell_type": "code",
   "execution_count": 4,
   "outputs": [],
   "source": [
    "# Add gender feature\n",
    "def filter_gender(labels):\n",
    "    if \"male\" in labels:\n",
    "        return \"male\"\n",
    "    elif \"female\" in labels:\n",
    "        return \"female\"\n",
    "    else:\n",
    "        return np.nan\n",
    "\n",
    "\n",
    "svc_df[\"gender\"] = type_col.apply(filter_gender)"
   ],
   "metadata": {
    "collapsed": false,
    "pycharm": {
     "name": "#%%\n"
    }
   }
  },
  {
   "cell_type": "code",
   "execution_count": 5,
   "outputs": [],
   "source": [
    "# Add age feature\n",
    "def filter_age(labels):\n",
    "    if \"adult\" in labels:\n",
    "        return \"adult\"\n",
    "    elif \"juvenile\" in labels:\n",
    "        return \"juvenile\"\n",
    "    else:\n",
    "        return np.nan\n",
    "\n",
    "\n",
    "svc_df[\"age\"] = type_col.apply(filter_age)"
   ],
   "metadata": {
    "collapsed": false,
    "pycharm": {
     "name": "#%%\n"
    }
   }
  },
  {
   "cell_type": "code",
   "execution_count": 23,
   "outputs": [],
   "source": [
    "# Set up date and time columns\n",
    "svc_df.date = pd.to_datetime(svc_df.date, format=\"%Y-%m-%d\", errors=\"coerce\")\n",
    "svc_df.time = pd.to_datetime(svc_df.time, format=\"%H:%M\", errors=\"coerce\")\n",
    "svc_df[\"month\"] = svc_df.date.dt.month\n",
    "svc_df[\"day\"] = svc_df.date.dt.day\n",
    "svc_df[\"hour\"] = svc_df.time.dt.hour\n",
    "svc_df[\"minute\"] = svc_df.time.dt.minute"
   ],
   "metadata": {
    "collapsed": false,
    "pycharm": {
     "name": "#%%\n"
    }
   }
  },
  {
   "cell_type": "code",
   "execution_count": 37,
   "outputs": [
    {
     "data": {
      "text/plain": "Summarize dataset:   0%|          | 0/47 [00:00<?, ?it/s]",
      "application/vnd.jupyter.widget-view+json": {
       "version_major": 2,
       "version_minor": 0,
       "model_id": "758cf5a2c7ac42b4962b1eb08b8f5454"
      }
     },
     "metadata": {},
     "output_type": "display_data"
    },
    {
     "data": {
      "text/plain": "Generate report structure:   0%|          | 0/1 [00:00<?, ?it/s]",
      "application/vnd.jupyter.widget-view+json": {
       "version_major": 2,
       "version_minor": 0,
       "model_id": "481f1f959f87413f8e6a75b6d6d0ca6f"
      }
     },
     "metadata": {},
     "output_type": "display_data"
    },
    {
     "data": {
      "text/plain": "Render HTML:   0%|          | 0/1 [00:00<?, ?it/s]",
      "application/vnd.jupyter.widget-view+json": {
       "version_major": 2,
       "version_minor": 0,
       "model_id": "fe1f126a37e24d1e82e7e3a22082ede5"
      }
     },
     "metadata": {},
     "output_type": "display_data"
    },
    {
     "data": {
      "text/plain": "Export report to file:   0%|          | 0/1 [00:00<?, ?it/s]",
      "application/vnd.jupyter.widget-view+json": {
       "version_major": 2,
       "version_minor": 0,
       "model_id": "b701c16db9924307a181bba85bb3737a"
      }
     },
     "metadata": {},
     "output_type": "display_data"
    }
   ],
   "source": [
    "profile = ProfileReport(svc_df, title=\"Metadata Report\")\n",
    "fname = \"metadata_report.html\"\n",
    "profile.to_file(f\"assets/{fname}\")"
   ],
   "metadata": {
    "collapsed": false,
    "pycharm": {
     "name": "#%%\n"
    }
   }
  },
  {
   "cell_type": "code",
   "execution_count": 109,
   "outputs": [],
   "source": [
    "keep_cols = [\n",
    "    \"id\",\n",
    "    \"gen\",\n",
    "    \"sp\",\n",
    "    \"ssp\",\n",
    "    \"en\",\n",
    "    \"lat\",\n",
    "    \"lng\",\n",
    "    \"time\",\n",
    "    \"date\",\n",
    "    \"gender\",\n",
    "    \"age\",\n",
    "    \"month\",\n",
    "    \"day\",\n",
    "    \"hour\",\n",
    "    \"minute\",\n",
    "]\n",
    "X_df, y_df = (\n",
    "    svc_df.reindex(columns=keep_cols).copy(),\n",
    "    svc_df.reindex(columns=[\"id\", \"pred\"]).copy(),\n",
    ")\n",
    "dt_feats = gen_features(\n",
    "    columns=[[\"month\"], [\"day\"], [\"hour\"], [\"minute\"]],\n",
    "    classes=[\n",
    "        SimpleImputer,\n",
    "        {\"class\": FunctionTransformer, \"func\": np.sin},\n",
    "        MinMaxScaler,\n",
    "    ],\n",
    ")\n",
    "n_components = 50\n",
    "feature_mapper = DataFrameMapper(\n",
    "    [\n",
    "        (\"id\", None),\n",
    "        ([\"gen\"], OneHotEncoder(drop_invariant=True, use_cat_names=True)),\n",
    "        ([\"sp\"], OneHotEncoder(drop_invariant=True, use_cat_names=True)),\n",
    "        ([\"en\"], OneHotEncoder(drop_invariant=True, use_cat_names=True)),\n",
    "        ([\"lat\"], [SimpleImputer(), StandardScaler()]),  # gaussian\n",
    "        ([\"lng\"], [SimpleImputer(), MinMaxScaler()]),  # bi-modal --> MinMaxScaler\n",
    "        # TODO: maybe later look into converting month / day into days since start of year\n",
    "        (\n",
    "            [\"month\"],\n",
    "            [\n",
    "                SimpleImputer(),\n",
    "                FunctionTransformer(lambda X: np.sin((X - 1) * 2 * np.pi / 12)),\n",
    "                StandardScaler(),  # gaussian\n",
    "            ],\n",
    "        ),\n",
    "        (\n",
    "            [\"day\"],\n",
    "            [\n",
    "                SimpleImputer(),\n",
    "                FunctionTransformer(lambda X: np.sin(X * 2 * np.pi / 31)),\n",
    "                MinMaxScaler(),  # uniform\n",
    "            ],\n",
    "        ),\n",
    "        # TODO: maybe later look into converting hour / minute into seconds since start of day\n",
    "        (\n",
    "            [\"hour\"],\n",
    "            [\n",
    "                SimpleImputer(),\n",
    "                FunctionTransformer(lambda X: np.sin(X * 2 * np.pi / 24)),\n",
    "                StandardScaler(),  # gaussian\n",
    "            ],\n",
    "        ),\n",
    "        (\n",
    "            [\"minute\"],\n",
    "            [\n",
    "                SimpleImputer(),\n",
    "                FunctionTransformer(lambda X: np.sin(X * 2 * np.pi / 60)),\n",
    "                MinMaxScaler(),  # uniform\n",
    "            ],\n",
    "        ),\n",
    "    ],\n",
    "    df_out=True,\n",
    ")"
   ],
   "metadata": {
    "collapsed": false,
    "pycharm": {
     "name": "#%%\n"
    }
   }
  },
  {
   "cell_type": "code",
   "execution_count": 110,
   "outputs": [
    {
     "name": "stderr",
     "output_type": "stream",
     "text": [
      "/Users/adithyabalaji/.pyenv/versions/3.8.0/envs/pracds_final/lib/python3.8/site-packages/category_encoders/utils.py:21: FutureWarning: is_categorical is deprecated and will be removed in a future version.  Use is_categorical_dtype instead\n",
      "  elif pd.api.types.is_categorical(cols):\n",
      "/Users/adithyabalaji/.pyenv/versions/3.8.0/envs/pracds_final/lib/python3.8/site-packages/category_encoders/utils.py:21: FutureWarning: is_categorical is deprecated and will be removed in a future version.  Use is_categorical_dtype instead\n",
      "  elif pd.api.types.is_categorical(cols):\n",
      "/Users/adithyabalaji/.pyenv/versions/3.8.0/envs/pracds_final/lib/python3.8/site-packages/category_encoders/utils.py:21: FutureWarning: is_categorical is deprecated and will be removed in a future version.  Use is_categorical_dtype instead\n",
      "  elif pd.api.types.is_categorical(cols):\n"
     ]
    }
   ],
   "source": [
    "X_feat_df = feature_mapper.fit_transform(X_df, y_df[\"pred\"])\n",
    "X_train, X_test = (\n",
    "    X_feat_df[X_feat_df.id.isin(train_ids)].drop(columns=[\"id\"]),\n",
    "    X_feat_df[X_feat_df.id.isin(test_ids)].drop(columns=[\"id\"]),\n",
    ")\n",
    "y_train, y_test = (\n",
    "    y_df[y_df.id.isin(train_ids)].drop(columns=[\"id\"]).squeeze(),\n",
    "    y_df[y_df.id.isin(test_ids)].drop(columns=[\"id\"]).squeeze(),\n",
    ")"
   ],
   "metadata": {
    "collapsed": false,
    "pycharm": {
     "name": "#%%\n"
    }
   }
  },
  {
   "cell_type": "code",
   "execution_count": 111,
   "outputs": [
    {
     "data": {
      "text/plain": "gen_0_Branta           int64\ngen_0_Anser            int64\ngen_0_Callipepla       int64\ngen_0_Phoebastria      int64\ngen_0_Podilymbus       int64\n                      ...   \nlng                  float64\nmonth                float64\nday                  float64\nhour                 float64\nminute               float64\nLength: 534, dtype: object"
     },
     "execution_count": 111,
     "metadata": {},
     "output_type": "execute_result"
    }
   ],
   "source": [
    "# X_train.columns[X_train.isna().any()]\n",
    "\n",
    "X_train.dtypes"
   ],
   "metadata": {
    "collapsed": false,
    "pycharm": {
     "name": "#%%\n"
    }
   }
  },
  {
   "cell_type": "code",
   "execution_count": 112,
   "outputs": [
    {
     "name": "stdout",
     "output_type": "stream",
     "text": [
      "0.7496551724137931\n"
     ]
    }
   ],
   "source": [
    "lr = LogisticRegression()\n",
    "lr.fit(X_train, y_train)\n",
    "\n",
    "print(lr.score(X_test, y_test))"
   ],
   "metadata": {
    "collapsed": false,
    "pycharm": {
     "name": "#%%\n"
    }
   }
  },
  {
   "cell_type": "code",
   "execution_count": 132,
   "outputs": [
    {
     "name": "stderr",
     "output_type": "stream",
     "text": [
      "/Users/adithyabalaji/.pyenv/versions/3.8.0/envs/pracds_final/lib/python3.8/site-packages/xgboost/sklearn.py:1146: UserWarning: The use of label encoder in XGBClassifier is deprecated and will be removed in a future release. To remove this warning, do the following: 1) Pass option use_label_encoder=False when constructing XGBClassifier object; and 2) Encode your labels (y) as integers starting with 0, i.e. 0, 1, 2, ..., [num_class - 1].\n",
      "  warnings.warn(label_encoder_deprecation_msg, UserWarning)\n"
     ]
    },
    {
     "name": "stdout",
     "output_type": "stream",
     "text": [
      "0.7731034482758621\n"
     ]
    }
   ],
   "source": [
    "xgb_clf = xgb.XGBClassifier()\n",
    "eval_set = [(X_train, y_train), (X_test, y_test)]\n",
    "xgb_clf.fit(\n",
    "    X_train, y_train, eval_metric=[\"error\", \"logloss\"], eval_set=eval_set, verbose=False\n",
    ")\n",
    "\n",
    "print(xgb_clf.score(X_test, y_test))"
   ],
   "metadata": {
    "collapsed": false,
    "pycharm": {
     "name": "#%%\n"
    }
   }
  },
  {
   "cell_type": "code",
   "execution_count": 137,
   "outputs": [
    {
     "data": {
      "text/plain": "<Figure size 432x288 with 1 Axes>",
      "image/png": "[encoded data removed]"
     },
     "metadata": {},
     "output_type": "display_data"
    }
   ],
   "source": [
    "# Loss\n",
    "# retrieve performance metrics\n",
    "results = xgb_clf.evals_result()\n",
    "epochs = len(results[\"validation_0\"][\"error\"])\n",
    "x_axis = range(0, epochs)\n",
    "\n",
    "# plot log loss\n",
    "f, ax = plt.subplots()\n",
    "ax.plot(x_axis, results[\"validation_0\"][\"logloss\"], label=\"Train\")\n",
    "ax.plot(x_axis, results[\"validation_1\"][\"logloss\"], label=\"Test\")\n",
    "ax.legend()\n",
    "sns.despine(f, ax)\n",
    "plt.ylabel(\"Log Loss\")\n",
    "plt.xlabel(\"Epochs\")\n",
    "plt.title(\"Log Loss vs Epochs (XGBoost Meta Model)\")\n",
    "\n",
    "f.tight_layout()\n",
    "fig_name = \"svc_meta_xgb_loss.png\"\n",
    "f.savefig(f\"assets/{fig_name}\", dpi=150);"
   ],
   "metadata": {
    "collapsed": false,
    "pycharm": {
     "name": "#%%\n"
    }
   }
  },
  {
   "cell_type": "code",
   "execution_count": null,
   "outputs": [],
   "source": [
    "# Feature importance\n",
    "# how it is calculated: https://stats.stackexchange.com/a/422480/311774\n",
    "N_feats = 10\n",
    "feat_imp = pd.Series(\n",
    "    xgb_clf.feature_importances_, index=X_train.columns, name=\"imp\"\n",
    ").nlargest(N_feats)\n",
    "\n",
    "f, ax = plt.subplots()\n",
    "ax.bar(feat_imp.index, feat_imp)\n",
    "sns.despine(f, ax, bottom=True)\n",
    "plt.setp(ax.get_xticklabels(), rotation=75)\n",
    "\n",
    "ax.set_xlabel(\"Feature Name\")\n",
    "ax.set_ylabel(\"Importance\")\n",
    "ax.set_title(f\"Importance vs Feature for the {N_feats} Largest Importances\")\n",
    "f.tight_layout()\n",
    "fig_name = \"svc_meta_xgb_imp.png\"\n",
    "f.savefig(f\"assets/{fig_name}\", dpi=150);"
   ],
   "metadata": {
    "collapsed": false,
    "pycharm": {
     "name": "#%%\n"
    }
   }
  }
 ],
 "metadata": {
  "kernelspec": {
   "display_name": "Python 3",
   "language": "python",
   "name": "python3"
  },
  "language_info": {
   "codemirror_mode": {
    "name": "ipython",
    "version": 2
   },
   "file_extension": ".py",
   "mimetype": "text/x-python",
   "name": "python",
   "nbconvert_exporter": "python",
   "pygments_lexer": "ipython2",
   "version": "2.7.6"
  }
 },
 "nbformat": 4,
 "nbformat_minor": 0
}
