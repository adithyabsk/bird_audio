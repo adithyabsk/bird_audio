{
 "cells": [
  {
   "cell_type": "code",
   "execution_count": 103,
   "metadata": {
    "collapsed": true
   },
   "outputs": [],
   "source": [
    "import json\n",
    "from pathlib import Path\n",
    "\n",
    "import numpy as np\n",
    "import pandas as pd\n",
    "from sklearn.impute import SimpleImputer\n",
    "from sklearn.linear_model import LogisticRegression\n",
    "from sklearn.preprocessing import MinMaxScaler, OneHotEncoder\n",
    "from sklearn_pandas import DataFrameMapper\n",
    "\n",
    "ROOT_PATH = Path(\"..\")"
   ]
  },
  {
   "cell_type": "code",
   "execution_count": 104,
   "outputs": [],
   "source": [
    "df = pd.read_csv(ROOT_PATH / \"data/raw/metadata.csv\")\n",
    "svc_ids = pd.read_json(ROOT_PATH / \"data/raw/song_vs_call.json\").squeeze()\n",
    "svc_df = df.loc[df.id.isin(svc_ids)].copy()\n",
    "\n",
    "with open(ROOT_PATH / \"data/processed/svc_split.json\") as svc_split_file:\n",
    "    svc_split = json.load(svc_split_file)\n",
    "    train_ids = svc_split[\"train_ids\"]\n",
    "    test_ids = svc_split[\"test_ids\"]"
   ],
   "metadata": {
    "collapsed": false,
    "pycharm": {
     "name": "#%%\n"
    }
   }
  },
  {
   "cell_type": "code",
   "execution_count": 110,
   "outputs": [],
   "source": [
    "# Add response variable\n",
    "type_col = svc_df.type.str.lower().str.replace(\" \", \"\").str.split(\",\")\n",
    "filtered_type_col = type_col.apply(lambda l: set(l) - {\"call\", \"song\"})\n",
    "svc_df[\"pred\"] = type_col.apply(lambda l: \"call\" in l).astype(int)"
   ],
   "metadata": {
    "collapsed": false,
    "pycharm": {
     "name": "#%%\n"
    }
   }
  },
  {
   "cell_type": "code",
   "execution_count": 111,
   "outputs": [],
   "source": [
    "# Add gender feature\n",
    "def filter_gender(labels):\n",
    "    if \"male\" in labels:\n",
    "        return \"male\"\n",
    "    elif \"female\" in labels:\n",
    "        return \"female\"\n",
    "    else:\n",
    "        return np.nan\n",
    "\n",
    "\n",
    "svc_df[\"gender\"] = type_col.apply(filter_gender)"
   ],
   "metadata": {
    "collapsed": false,
    "pycharm": {
     "name": "#%%\n"
    }
   }
  },
  {
   "cell_type": "code",
   "execution_count": 112,
   "outputs": [],
   "source": [
    "# Add age feature\n",
    "def filter_age(labels):\n",
    "    if \"adult\" in labels:\n",
    "        return \"adult\"\n",
    "    elif \"juvenile\" in labels:\n",
    "        return \"juvenile\"\n",
    "    else:\n",
    "        return np.nan\n",
    "\n",
    "\n",
    "svc_df[\"age\"] = type_col.apply(filter_age)"
   ],
   "metadata": {
    "collapsed": false,
    "pycharm": {
     "name": "#%%\n"
    }
   }
  },
  {
   "cell_type": "code",
   "execution_count": 113,
   "outputs": [],
   "source": [
    "keep_cols = [\n",
    "    \"id\",\n",
    "    \"gen\",\n",
    "    \"sp\",\n",
    "    \"ssp\",\n",
    "    \"en\",\n",
    "    \"lat\",\n",
    "    \"lng\",\n",
    "    \"time\",\n",
    "    \"date\",\n",
    "    \"gender\",\n",
    "    \"age\",\n",
    "]\n",
    "X_df, y_df = (\n",
    "    svc_df.reindex(columns=keep_cols).copy(),\n",
    "    svc_df.reindex(columns=[\"id\", \"pred\"]).copy(),\n",
    ")\n",
    "feature_mapper = DataFrameMapper(\n",
    "    [\n",
    "        (\"id\", None),\n",
    "        ([\"gen\"], OneHotEncoder()),\n",
    "        ([\"sp\"], OneHotEncoder()),\n",
    "        ([\"ssp\"], OneHotEncoder()),\n",
    "        ([\"en\"], OneHotEncoder()),\n",
    "        ([\"lat\"], [MinMaxScaler(), SimpleImputer()]),\n",
    "        ([\"lng\"], [MinMaxScaler(), SimpleImputer()]),\n",
    "        ([\"gender\"], OneHotEncoder()),\n",
    "        ([\"age\"], OneHotEncoder()),\n",
    "    ],\n",
    "    df_out=True,\n",
    ")"
   ],
   "metadata": {
    "collapsed": false,
    "pycharm": {
     "name": "#%%\n"
    }
   }
  },
  {
   "cell_type": "code",
   "execution_count": 114,
   "outputs": [],
   "source": [
    "X_feat_df = feature_mapper.fit_transform(X_df)\n",
    "X_train, X_test = (\n",
    "    X_feat_df[X_feat_df.id.isin(train_ids)].drop(columns=[\"id\"]),\n",
    "    X_feat_df[X_feat_df.id.isin(test_ids)].drop(columns=[\"id\"]),\n",
    ")\n",
    "y_train, y_test = (\n",
    "    y_df[y_df.id.isin(train_ids)].drop(columns=[\"id\"]).squeeze(),\n",
    "    y_df[y_df.id.isin(test_ids)].drop(columns=[\"id\"]).squeeze(),\n",
    ")"
   ],
   "metadata": {
    "collapsed": false,
    "pycharm": {
     "name": "#%%\n"
    }
   }
  },
  {
   "cell_type": "code",
   "execution_count": 116,
   "outputs": [
    {
     "data": {
      "text/plain": "LogisticRegression()"
     },
     "execution_count": 116,
     "metadata": {},
     "output_type": "execute_result"
    }
   ],
   "source": [
    "lr = LogisticRegression()\n",
    "lr.fit(X_train, y_train)"
   ],
   "metadata": {
    "collapsed": false,
    "pycharm": {
     "name": "#%%\n"
    }
   }
  },
  {
   "cell_type": "code",
   "execution_count": 117,
   "outputs": [
    {
     "name": "stdout",
     "output_type": "stream",
     "text": [
      "0.7240377632534495\n"
     ]
    }
   ],
   "source": [
    "print(lr.score(X_test, y_test))"
   ],
   "metadata": {
    "collapsed": false,
    "pycharm": {
     "name": "#%%\n"
    }
   }
  }
 ],
 "metadata": {
  "kernelspec": {
   "display_name": "Python 3",
   "language": "python",
   "name": "python3"
  },
  "language_info": {
   "codemirror_mode": {
    "name": "ipython",
    "version": 2
   },
   "file_extension": ".py",
   "mimetype": "text/x-python",
   "name": "python",
   "nbconvert_exporter": "python",
   "pygments_lexer": "ipython2",
   "version": "2.7.6"
  }
 },
 "nbformat": 4,
 "nbformat_minor": 0
}